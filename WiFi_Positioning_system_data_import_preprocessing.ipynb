{
  "nbformat": 4,
  "nbformat_minor": 0,
  "metadata": {
    "colab": {
      "name": "WiFi Positioning system_data_import_preprocessing.ipynb",
      "version": "0.3.2",
      "provenance": [],
      "collapsed_sections": [],
      "include_colab_link": true
    },
    "kernelspec": {
      "name": "python3",
      "display_name": "Python 3"
    }
  },
  "cells": [
    {
      "cell_type": "markdown",
      "metadata": {
        "id": "view-in-github",
        "colab_type": "text"
      },
      "source": [
        "<a href=\"https://colab.research.google.com/github/Ghazalehz/Wifi-Positioning-System/blob/master/WiFi_Positioning_system_data_import_preprocessing.ipynb\" target=\"_parent\"><img src=\"https://colab.research.google.com/assets/colab-badge.svg\" alt=\"Open In Colab\"/></a>"
      ]
    },
    {
      "cell_type": "markdown",
      "metadata": {
        "id": "9Bv7epHBZLf6",
        "colab_type": "text"
      },
      "source": [
        "**Evaluate Techniques for Wifi Locationing**\n",
        "\n",
        "**Objective**\n",
        "\n",
        "The aim of the project is to build a **Wifi positioning system**.\n",
        "\n",
        "Evaluating the application of machine learning techniques to the problem of indoor locationing via wifi fingerprinting.\n",
        "\n",
        "Many real world applications need to know the localization of a user in the world to provide their services. Therefore, automatic user localization has been a hot research topic in the last years. Automatic user localization consists of estimating the position of the user (latitude, longitude) by using an electronic device, usually a mobile phone. Outdoor localization problem can be solved very accurately thanks to the inclusion of GPS sensors into the mobile devices. However, indoor localization is still an open problem mainly due to the loss of GPS signal in indoor environments. Although, there are some indoor positioning technologies and methodologies, this database is focused on WLAN fingerprint-based technology or WiFi Fingerprinting.\n",
        "\n",
        "Although there are many papers in the literature trying to solve the indoor localization problem using a WLAN fingerprint-based method, there still exists one important drawback in this field which is the lack of a common database for comparison purposes. So, UJIIndoorLoc database is presented to overcome this gap. We expect that the proposed database will become the reference database to compare different indoor localization methodologies based on WiFi fingerprinting.\n",
        "\n",
        "**Summary**\n",
        "\n",
        "Database used: [Click on database source](http://archive.ics.uci.edu/ml/machine-learning-databases/00310/UJIndoorLoc.zip)\n",
        "\n",
        "Location: Universitat Jaume, approximatly 110.000m$^2$\n",
        "\n",
        "Date of database creation: 2013\n",
        "\n",
        "Participants: 20 users and 25 Android devices\n",
        "\n",
        "Models investigated: **C5.0, SVM/SVR, KNN, LM, Model Trees, RandomForest**"
      ]
    },
    {
      "cell_type": "code",
      "metadata": {
        "id": "fzb_Gew9ZiTW",
        "colab_type": "code",
        "colab": {}
      },
      "source": [
        ""
      ],
      "execution_count": 0,
      "outputs": []
    }
  ]
}