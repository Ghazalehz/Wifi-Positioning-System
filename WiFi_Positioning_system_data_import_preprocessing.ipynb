{
  "nbformat": 4,
  "nbformat_minor": 0,
  "metadata": {
    "colab": {
      "name": "WiFi Positioning system_data_import_preprocessing.ipynb",
      "version": "0.3.2",
      "provenance": [],
      "collapsed_sections": [],
      "include_colab_link": true
    },
    "kernelspec": {
      "name": "python3",
      "display_name": "Python 3"
    }
  },
  "cells": [
    {
      "cell_type": "markdown",
      "metadata": {
        "id": "view-in-github",
        "colab_type": "text"
      },
      "source": [
        "<a href=\"https://colab.research.google.com/github/Ghazalehz/Wifi-Positioning-System/blob/master/WiFi_Positioning_system_data_import_preprocessing.ipynb\" target=\"_parent\"><img src=\"https://colab.research.google.com/assets/colab-badge.svg\" alt=\"Open In Colab\"/></a>"
      ]
    },
    {
      "cell_type": "markdown",
      "metadata": {
        "id": "9Bv7epHBZLf6",
        "colab_type": "text"
      },
      "source": [
        "**Evaluate Techniques for Wifi Locationing**\n",
        "\n",
        "**Objective**\n",
        "\n",
        "The aim of the project is to build a **Wifi positioning system**.\n",
        "\n",
        "Evaluating the application of machine learning techniques to the problem of indoor locationing via wifi fingerprinting.\n",
        "\n",
        "Many real world applications need to know the localization of a user in the world to provide their services. Therefore, automatic user localization has been a hot research topic in the last years. Automatic user localization consists of estimating the position of the user (latitude, longitude) by using an electronic device, usually a mobile phone. Outdoor localization problem can be solved very accurately thanks to the inclusion of GPS sensors into the mobile devices. However, indoor localization is still an open problem mainly due to the loss of GPS signal in indoor environments. Although, there are some indoor positioning technologies and methodologies, this database is focused on WLAN fingerprint-based technology or WiFi Fingerprinting.\n",
        "\n",
        "Although there are many papers in the literature trying to solve the indoor localization problem using a WLAN fingerprint-based method, there still exists one important drawback in this field which is the lack of a common database for comparison purposes. So, UJIIndoorLoc database is presented to overcome this gap. We expect that the proposed database will become the reference database to compare different indoor localization methodologies based on WiFi fingerprinting.\n",
        "\n",
        "**Summary**\n",
        "\n",
        "Database used: [Click on database source](http://archive.ics.uci.edu/ml/machine-learning-databases/00310/UJIndoorLoc.zip)\n",
        "\n",
        "Location: Universitat Jaume, approximatly 110.000m$^2$\n",
        "\n",
        "Date of database creation: 2013\n",
        "\n",
        "Participants: 20 users and 25 Android devices\n",
        "\n",
        "Models investigated: **C5.0, SVM/SVR, KNN, LM, Model Trees, RandomForest**"
      ]
    },
    {
      "cell_type": "code",
      "metadata": {
        "id": "fzb_Gew9ZiTW",
        "colab_type": "code",
        "colab": {}
      },
      "source": [
        "import pandas as pd \n",
        "import numpy as np \n",
        "import matplotlib.pyplot as plt \n",
        "import seaborn as sns \n",
        "\n",
        "%matplotlib inline"
      ],
      "execution_count": 0,
      "outputs": []
    },
    {
      "cell_type": "markdown",
      "metadata": {
        "id": "QsBYzBWK9ebA",
        "colab_type": "text"
      },
      "source": [
        "The database consists of **19937 training/reference records** (trainingData.csv file)\n",
        "**1111 validation/test records**(validationData.csv file).\n",
        "\n",
        "**Attribute Information:**\n",
        "\n",
        "The 529 features contain the WiFi fingerprint, the coordinates where it was taken, and other useful information.\n",
        "\n",
        "Each WiFi fingerprint can be characterized by the detected Wireless Access Points (WAPs) and the corresponding Received Signal Strength Intensity (RSSI). The intensity values are represented as negative integer values ranging -104dBm (extremely poor signal) to 0dbM. The positive value 100 is used to denote when a WAP was not detected. During the database creation, 520 different WAPs were detected. Thus, the WiFi fingerprint is composed by 520 intensity values.\n",
        "\n",
        "**Attribute 001 (WAP001):** Intensity value for WAP001. Negative integer values from -104 to 0 and +100. Positive value 100 used if WAP001 was not detected.\n",
        "\n",
        "....\n",
        "\n",
        "....\n",
        "\n",
        "**Attribute 520 (WAP520):** Intensity value for WAP520. Negative integer values from -104 to 0 and +100. Positive Vvalue 100 used if WAP520 was not detected.\n",
        "\n",
        "**Attribute 521 (Longitude)**: Longitude. Negative real values from -7695.9387549299299000 to -7299.786516730871000\n",
        "\n",
        "**Attribute 522 (Latitude)**: Latitude. Positive real values from 4864745.7450159714 to 4865017.3646842018.\n",
        "\n",
        "**Attribute 523 (Floor)**: Altitude in floors inside the building. Integer values from 0 to 4.\n",
        "\n",
        "**Attribute 524 (BuildingID)**: ID to identify the building. Measures were taken in three different buildings. Categorical integer values from 0 to 2.\n",
        "\n",
        "**Attribute 525 (SpaceID)**: Internal ID number to identify the Space (office, corridor, classroom) where the capture was taken. Categorical integer values.\n",
        "\n",
        "**Attribute 526 (RelativePosition)**: Relative position with respect to the Space (1 - Inside, 2 - Outside in Front of the door). Categorical integer values.\n",
        "\n",
        "**Attribute 527 (UserID)**: User identifier (see below). Categorical integer values.\n",
        "\n",
        "**Attribute 528 (PhoneID)**: Android device identifier (see below). Categorical integer values.\n",
        "\n",
        "**Attribute 529 (Timestamp)**: UNIX Time when the capture was taken. Integer value."
      ]
    },
    {
      "cell_type": "code",
      "metadata": {
        "id": "flKa44R_ZV1D",
        "colab_type": "code",
        "colab": {}
      },
      "source": [
        ""
      ],
      "execution_count": 0,
      "outputs": []
    }
  ]
}