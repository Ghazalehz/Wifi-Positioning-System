{
  "nbformat": 4,
  "nbformat_minor": 0,
  "metadata": {
    "colab": {
      "name": "Wifi.ipynb",
      "version": "0.3.2",
      "provenance": [],
      "collapsed_sections": [],
      "include_colab_link": true
    },
    "kernelspec": {
      "name": "python3",
      "display_name": "Python 3"
    },
    "accelerator": "GPU"
  },
  "cells": [
    {
      "cell_type": "markdown",
      "metadata": {
        "id": "view-in-github",
        "colab_type": "text"
      },
      "source": [
        "<a href=\"https://colab.research.google.com/github/Ghazalehz/Wifi-Positioning-System/blob/master/Wifi.ipynb\" target=\"_parent\"><img src=\"https://colab.research.google.com/assets/colab-badge.svg\" alt=\"Open In Colab\"/></a>"
      ]
    },
    {
      "cell_type": "markdown",
      "metadata": {
        "id": "F6PdOipsD0L0",
        "colab_type": "text"
      },
      "source": [
        "#  Project Description"
      ]
    },
    {
      "cell_type": "markdown",
      "metadata": {
        "id": "OfrsICNNDmIx",
        "colab_type": "text"
      },
      "source": [
        "\n",
        "Many real world applications need to know the localization of a user in the world to provide their services. So, automatic user localization has been a hot research topic in the last years.\t\t                      \n",
        "The goal of the project is to build an machine learning model  which will be able to predict the location of an user inside the university Universitat Jaume, Spain. For that, the model will use RSSI signal strength received by mobile handsets of the users in 3 buildings. \t                                                 \n",
        "\n",
        "**Total number of attributes** : 529 \t\t\t\t\t\t\n",
        "\n",
        "1st 520 attributes are RSSI signal intensity. Rests are Longitude, Latitude, Floor, \n",
        "Building ID, Space ID etc.             \n",
        "\n",
        "This piece of code (1st module) will load the data and perform preprocessing.                            \n",
        "\n",
        "**Version:** 1.0                     \n",
        "\n",
        "**Author** : Ghazaleh Zamani\t                      \n",
        "\n",
        "**Date**:    12/10/2018 \t\t\t\t\t\t\t       "
      ]
    },
    {
      "cell_type": "code",
      "metadata": {
        "id": "aqZ5qRxgAHA9",
        "colab_type": "code",
        "colab": {}
      },
      "source": [
        "%reload_ext rpy2.ipython\n"
      ],
      "execution_count": 0,
      "outputs": []
    },
    {
      "cell_type": "markdown",
      "metadata": {
        "id": "BLyQtD6TE5ng",
        "colab_type": "text"
      },
      "source": [
        "#### Mounting drive"
      ]
    },
    {
      "cell_type": "code",
      "metadata": {
        "id": "LotgN748AxsE",
        "colab_type": "code",
        "colab": {}
      },
      "source": [
        "from google.colab import drive\n",
        "drive.mount('/content/drive')"
      ],
      "execution_count": 0,
      "outputs": []
    },
    {
      "cell_type": "code",
      "metadata": {
        "id": "TITo6vtfdC1V",
        "colab_type": "code",
        "colab": {}
      },
      "source": [
        "%%R\n",
        "install.packages('plotly', dependencies = TRUE)"
      ],
      "execution_count": 0,
      "outputs": []
    },
    {
      "cell_type": "code",
      "metadata": {
        "id": "DZ58PPqkUh61",
        "colab_type": "code",
        "colab": {}
      },
      "source": [
        "%%R\n",
        "install.packages('caret', dependencies = TRUE)"
      ],
      "execution_count": 0,
      "outputs": []
    },
    {
      "cell_type": "code",
      "metadata": {
        "id": "6BCH7DdgUlJ7",
        "colab_type": "code",
        "colab": {}
      },
      "source": [
        "%%R\n",
        "install.packages('anytime', dependencies = TRUE)\n",
        "#install.packages('rworldmap', dependencies = TRUE)"
      ],
      "execution_count": 0,
      "outputs": []
    },
    {
      "cell_type": "markdown",
      "metadata": {
        "id": "o16lVlv1FIkF",
        "colab_type": "text"
      },
      "source": [
        "####   Loading libraries"
      ]
    },
    {
      "cell_type": "code",
      "metadata": {
        "id": "1cGBWLAiFNo0",
        "colab_type": "code",
        "colab": {}
      },
      "source": [
        "%%R\n",
        "\n",
        "\n",
        "library(plotly)                     \n",
        "library(ggplot2)                    \n",
        "library(rworldmap)                  \n",
        "library(anytime)                    \n",
        "library(dplyr)                      \n",
        "library(scales)                     \n",
        "library(data.table)                 \n",
        "library(caret)\t\t\t\t\t\t\n"
      ],
      "execution_count": 0,
      "outputs": []
    },
    {
      "cell_type": "code",
      "metadata": {
        "id": "ZtRTw1HtNEJ4",
        "colab_type": "code",
        "colab": {}
      },
      "source": [
        "%%R\n",
        "library(anytime)                    \n"
      ],
      "execution_count": 0,
      "outputs": []
    },
    {
      "cell_type": "markdown",
      "metadata": {
        "id": "AoVgfMQZC7tn",
        "colab_type": "text"
      },
      "source": [
        "### Loading the Data files"
      ]
    },
    {
      "cell_type": "code",
      "metadata": {
        "id": "1IzfGujkAlNM",
        "colab_type": "code",
        "colab": {}
      },
      "source": [
        "%%R\n",
        "\n",
        "IndoorLoc = read.csv ('/content/drive/My Drive/Colab Notebooks/trainingData.csv')\n",
        "IndoorVal = read.csv('/content/drive/My Drive/Colab Notebooks/validationData.csv')"
      ],
      "execution_count": 0,
      "outputs": []
    },
    {
      "cell_type": "markdown",
      "metadata": {
        "id": "5xbsSsJhHcdJ",
        "colab_type": "text"
      },
      "source": [
        "#### Data exploration"
      ]
    },
    {
      "cell_type": "code",
      "metadata": {
        "id": "man7_9RnCz7N",
        "colab_type": "code",
        "colab": {}
      },
      "source": [
        "%%R\n",
        "summary(IndoorLoc)\n",
        "str(IndoorLoc[ncol(IndoorLoc) - 8:ncol(IndoorLoc)])\n",
        "str(IndoorVal[ncol(IndoorVal) - 8:ncol(IndoorVal)])"
      ],
      "execution_count": 0,
      "outputs": []
    },
    {
      "cell_type": "markdown",
      "metadata": {
        "id": "cKOVLM1XITq-",
        "colab_type": "text"
      },
      "source": [
        "#### Changing the attribute types "
      ]
    },
    {
      "cell_type": "code",
      "metadata": {
        "colab_type": "code",
        "id": "Fjk8J20FSMxA",
        "colab": {}
      },
      "source": [
        "%%R\n",
        "IndoorLoc$FLOOR <- as.factor(IndoorLoc$FLOOR)\n",
        "IndoorVal$FLOOR <- as.factor(IndoorVal$FLOOR)\n",
        "IndoorLoc$BUILDINGID <- as.factor(IndoorLoc$BUILDINGID)\n",
        "IndoorVal$BUILDINGID <- as.factor(IndoorVal$BUILDINGID)\n",
        "IndoorLoc$SPACEID <- as.factor(IndoorLoc$SPACEID)\n",
        "IndoorVal$SPACEID <- as.factor(IndoorVal$SPACEID)\n",
        "IndoorLoc$RELATIVEPOSITION <- as.factor(IndoorLoc$RELATIVEPOSITION)\n",
        "IndoorVal$RELATIVEPOSITION <- as.factor(IndoorVal$RELATIVEPOSITION)\n",
        "IndoorLoc$USERID <- as.factor(IndoorLoc$USERID)\n",
        "IndoorVal$USERID <- as.factor(IndoorVal$USERID)\n",
        "IndoorLoc$PHONEID <- as.factor(IndoorLoc$PHONEID)\n",
        "IndoorVal$PHONEID <- as.factor(IndoorVal$PHONEID)\n",
        "IndoorLoc$TIMESTAMP <- anytime(IndoorLoc$TIMESTAMP, tz = \"GMT\")\n",
        "IndoorVal$TIMESTAMP <- anytime(IndoorVal$TIMESTAMP, tz = \"GMT\")\n"
      ],
      "execution_count": 0,
      "outputs": []
    },
    {
      "cell_type": "markdown",
      "metadata": {
        "id": "PNZ3FuTaOusM",
        "colab_type": "text"
      },
      "source": [
        "#### Plotting the locations \n",
        "\n",
        "Training data locations"
      ]
    },
    {
      "cell_type": "code",
      "metadata": {
        "id": "8k52HMfiO9pa",
        "colab_type": "code",
        "outputId": "1133c619-3fd5-410e-9de9-d33fd35e4fb4",
        "colab": {
          "base_uri": "https://localhost:8080/",
          "height": 497
        }
      },
      "source": [
        "%%R\n",
        "LocationPlot <- ggplot(IndoorLoc, aes(x=LONGITUDE, y=LATITUDE, \n",
        "\t\t\t\t      color = BUILDINGID)) + geom_point()\n",
        "LocationPlot"
      ],
      "execution_count": 0,
      "outputs": [
        {
          "output_type": "display_data",
          "data": {
            "image/png": "[encoded data removed]"
          },
          "metadata": {
            "tags": []
          }
        }
      ]
    },
    {
      "cell_type": "markdown",
      "metadata": {
        "id": "n3nrZVhRP2Ep",
        "colab_type": "text"
      },
      "source": [
        "Validation data locations"
      ]
    },
    {
      "cell_type": "code",
      "metadata": {
        "id": "mgiIt5nNP8XW",
        "colab_type": "code",
        "outputId": "d2a27182-3b45-489c-e37e-1c0ceacb51f8",
        "colab": {
          "base_uri": "https://localhost:8080/",
          "height": 497
        }
      },
      "source": [
        "%%R\n",
        "ValLocPlot <- ggplot(IndoorVal, aes(x=LONGITUDE, y=LATITUDE, \n",
        "\t\t\t\t    color = BUILDINGID)) + geom_point()\n",
        "ValLocPlot"
      ],
      "execution_count": 0,
      "outputs": [
        {
          "output_type": "display_data",
          "data": {
            "image/png": "[encoded data removed]"
          },
          "metadata": {
            "tags": []
          }
        }
      ]
    },
    {
      "cell_type": "markdown",
      "metadata": {
        "id": "ymCuiEc-QRbq",
        "colab_type": "text"
      },
      "source": [
        "Training & Validation data locations in one image"
      ]
    },
    {
      "cell_type": "code",
      "metadata": {
        "id": "AHXlyJqdQXGd",
        "colab_type": "code",
        "outputId": "4c47e545-fa95-4742-ba46-9712ad4d9628",
        "colab": {
          "base_uri": "https://localhost:8080/",
          "height": 497
        }
      },
      "source": [
        "%%R\n",
        "colVec <- c(\"blue\", \"red\")\n",
        "ggplot() +\n",
        "  geom_point(data = IndoorLoc, mapping = aes(LONGITUDE, LATITUDE, \n",
        "\t\t\t\t\t     color = colVec[1], alpha = FLOOR), \n",
        "\t     color = colVec[1], show.legend = TRUE)+\n",
        "  geom_point(data = IndoorVal, mapping = aes(LONGITUDE, LATITUDE, \n",
        "\t\t\t\t\t     color = colVec[2], alpha = FLOOR), \n",
        "\t     color = colVec[2], show.legend = TRUE)"
      ],
      "execution_count": 0,
      "outputs": [
        {
          "output_type": "display_data",
          "data": {
            "image/png": "[encoded data removed]"
          },
          "metadata": {
            "tags": []
          }
        }
      ]
    },
    {
      "cell_type": "markdown",
      "metadata": {
        "id": "pHNY98alQgUQ",
        "colab_type": "text"
      },
      "source": [
        "#### Histogram of the ranges of RSSI values"
      ]
    },
    {
      "cell_type": "code",
      "metadata": {
        "id": "3PaeedbkQg61",
        "colab_type": "code",
        "outputId": "e9c63f7f-f2d7-4775-b85e-2d3cb52eded6",
        "colab": {
          "base_uri": "https://localhost:8080/",
          "height": 497
        }
      },
      "source": [
        "%%R\n",
        "Ranges <- subset(IndoorLoc, select = WAP001:WAP520)\n",
        "RangeVector <- c(as.matrix(Ranges))\n",
        "\n",
        "ggplot() + geom_histogram(aes(x = RangeVector), bins = 50) + \n",
        "              ggtitle(\"Range of RSSI values\") + \n",
        "                 theme(plot.title = element_text(hjust = 0.5)) + xlim(-110,1)"
      ],
      "execution_count": 0,
      "outputs": [
        {
          "output_type": "display_data",
          "data": {
            "image/png": "[encoded data removed]"
          },
          "metadata": {
            "tags": []
          }
        }
      ]
    },
    {
      "cell_type": "markdown",
      "metadata": {
        "id": "-ZDl7C90Q34k",
        "colab_type": "text"
      },
      "source": [
        "#### Histogram of WLAN Access Points (WAPs)\n",
        "It shows the number of WAPs detected by a WiFi scan across the number of database records"
      ]
    },
    {
      "cell_type": "code",
      "metadata": {
        "id": "pyhc2j2GQ4O6",
        "colab_type": "code",
        "outputId": "b5106a4f-3d28-455f-c0a0-09e3a37b237e",
        "colab": {
          "base_uri": "https://localhost:8080/",
          "height": 977
        }
      },
      "source": [
        "%%R\n",
        "WAPs <- apply(Ranges, 1, function(x) sum(x!=100))\n",
        "hist(WAPs)\n",
        "\t      \n",
        "ggplot() + geom_histogram(aes(x = WAPs), bins = 52) + \n",
        "\t      ggtitle(\"Distribution of number of WAPs among all observations\") + \n",
        "                 theme(plot.title = element_text(hjust = 0.5))\n"
      ],
      "execution_count": 0,
      "outputs": [
        {
          "output_type": "display_data",
          "data": {
            "image/png": "[encoded data removed]"
          },
          "metadata": {
            "tags": []
          }
        },
        {
          "output_type": "display_data",
          "data": {
            "image/png": "[encoded data removed]"
          },
          "metadata": {
            "tags": []
          }
        }
      ]
    },
    {
      "cell_type": "markdown",
      "metadata": {
        "id": "gSYq_1WcIY-d",
        "colab_type": "text"
      },
      "source": [
        "##  PREPROCESSING    \n",
        "\n",
        "The preprocessing has been applied to both training and validation set. "
      ]
    },
    {
      "cell_type": "markdown",
      "metadata": {
        "id": "yoQZEIteIjKG",
        "colab_type": "text"
      },
      "source": [
        "\n",
        "RSSI signal strength '100' means there is no signal\n",
        "Therefore RSSI signal values are changed from '100' to '-105' dBm"
      ]
    },
    {
      "cell_type": "code",
      "metadata": {
        "id": "wqgcdTd9IdVb",
        "colab_type": "code",
        "colab": {}
      },
      "source": [
        "%%R\n",
        "IndoorLoc[IndoorLoc==100]<- -105\n",
        "IndoorVal[IndoorVal==100]<- -105"
      ],
      "execution_count": 0,
      "outputs": []
    },
    {
      "cell_type": "markdown",
      "metadata": {
        "id": "pCQ3ZHTcIx9N",
        "colab_type": "text"
      },
      "source": [
        "#### Taking columns that contain only -105 out."
      ]
    },
    {
      "cell_type": "markdown",
      "metadata": {
        "id": "UWuFzbAAI2oP",
        "colab_type": "text"
      },
      "source": [
        "Training DataSet"
      ]
    },
    {
      "cell_type": "code",
      "metadata": {
        "id": "XReay61QI4ya",
        "colab_type": "code",
        "colab": {}
      },
      "source": [
        "%%R\n",
        "noSignal <- (as.data.frame(lapply((apply(IndoorLoc, 2, max)), function(x)\n",
        "{ifelse (x == -105, TRUE, FALSE)})))\n",
        "\n",
        "IndoorLoc <- IndoorLoc[,!noSignal]\n",
        "\n"
      ],
      "execution_count": 0,
      "outputs": []
    },
    {
      "cell_type": "markdown",
      "metadata": {
        "id": "zjotMHBdJRQX",
        "colab_type": "text"
      },
      "source": [
        "Validation DataSet"
      ]
    },
    {
      "cell_type": "code",
      "metadata": {
        "id": "hxYLD_aYJV6E",
        "colab_type": "code",
        "colab": {}
      },
      "source": [
        "%%R\n",
        "noSignal <- NULL\n",
        "noSignal <- (as.data.frame(lapply((apply(IndoorVal, 2, max)), function(x)\n",
        "{ifelse (x == -105, TRUE, FALSE)})))\n",
        "\n",
        "IndoorVal <- IndoorVal[,!noSignal]"
      ],
      "execution_count": 0,
      "outputs": []
    },
    {
      "cell_type": "markdown",
      "metadata": {
        "id": "posuboWnJgCX",
        "colab_type": "text"
      },
      "source": [
        "#### Taking out rows that have no WAP measurements"
      ]
    },
    {
      "cell_type": "markdown",
      "metadata": {
        "id": "sGpYqrToJlp4",
        "colab_type": "text"
      },
      "source": [
        "Training DataSet"
      ]
    },
    {
      "cell_type": "code",
      "metadata": {
        "id": "PI1nnpPKJjZy",
        "colab_type": "code",
        "colab": {}
      },
      "source": [
        "%%R\n",
        "IndoorLoc <- IndoorLoc[apply(IndoorLoc[,1:(ncol(IndoorLoc)-9)], 1, function(x) \n",
        "{ifelse(max(x) == -105, FALSE, TRUE)}),]\n"
      ],
      "execution_count": 0,
      "outputs": []
    },
    {
      "cell_type": "markdown",
      "metadata": {
        "id": "t-vorRx8Jpq-",
        "colab_type": "text"
      },
      "source": [
        "Validation DataSet"
      ]
    },
    {
      "cell_type": "code",
      "metadata": {
        "id": "gojCsIL2JraF",
        "colab_type": "code",
        "colab": {}
      },
      "source": [
        "%%R\n",
        "IndoorVal <- IndoorVal[apply(IndoorVal[,1:(ncol(IndoorVal)-9)], 1, function(x) \n",
        "{ifelse(max(x) == -105, FALSE, TRUE)}),]\n"
      ],
      "execution_count": 0,
      "outputs": []
    },
    {
      "cell_type": "markdown",
      "metadata": {
        "id": "jpn2lYSkJuqG",
        "colab_type": "text"
      },
      "source": [
        "####  Remove columns with Near Zero variance\n",
        "\n",
        "\n",
        "Number of columns with near zero variance \n",
        "\n",
        "deleteCols- Columns to be deleted"
      ]
    },
    {
      "cell_type": "code",
      "metadata": {
        "id": "Wg0fxmRQKJIJ",
        "colab_type": "code",
        "colab": {}
      },
      "source": [
        "%%R\n",
        "deleteCols <- nearZeroVar(IndoorLoc[,1:(ncol(IndoorLoc) - 9)], \n",
        "                                        saveMetrics = TRUE, uniqueCut = 0.015)$nzv\n",
        "\n",
        "IndoorLoc <- IndoorLoc[ , !(names(IndoorLoc) %in% colnames(IndoorLoc[,deleteCols]))]\n"
      ],
      "execution_count": 0,
      "outputs": []
    },
    {
      "cell_type": "markdown",
      "metadata": {
        "id": "8WMWCNK7Kdlk",
        "colab_type": "text"
      },
      "source": [
        "The number of individual measures inside range [−30dBm - 0dBm] is insignificant \n",
        "It cover approx 1% of total RSSI levels recorded in the database\n",
        "\n",
        "So excluding WAPs with the signal range [−30dBm - 0dBm]\n"
      ]
    },
    {
      "cell_type": "code",
      "metadata": {
        "id": "wiAVvetKKnOH",
        "colab_type": "code",
        "colab": {}
      },
      "source": [
        "%%R\n",
        "IndoorLoc <- IndoorLoc%>% mutate( not_wap30_0 = apply(IndoorLoc[,1:(ncol(IndoorLoc)-9)], 1, \n",
        "                                                 function(x) !(TRUE %in% (x > -30 & x <= 0))))                           \n",
        "\n",
        "IndoorLoc <- IndoorLoc[IndoorLoc$not_wap30_0,]\n",
        "  \n",
        "IndoorLoc$not_wap30_0 <- NULL"
      ],
      "execution_count": 0,
      "outputs": []
    },
    {
      "cell_type": "markdown",
      "metadata": {
        "id": "Kwqy7veWK9E-",
        "colab_type": "text"
      },
      "source": [
        "#### Removing duplicate rows in both Training and Validation sets"
      ]
    },
    {
      "cell_type": "code",
      "metadata": {
        "id": "33p_w51CK-WI",
        "colab_type": "code",
        "colab": {}
      },
      "source": [
        "%%R\n",
        "IndoorLoc <- unique(IndoorLoc)\n",
        "IndoorVal <- unique(IndoorVal) "
      ],
      "execution_count": 0,
      "outputs": []
    },
    {
      "cell_type": "markdown",
      "metadata": {
        "id": "Gjtr0voeLDgf",
        "colab_type": "text"
      },
      "source": [
        "Normalizing Training and validation sets so that standard deviation = 0,\n",
        "It will also prevent any NA values\n"
      ]
    },
    {
      "cell_type": "code",
      "metadata": {
        "id": "8FGUiVA_LEQr",
        "colab_type": "code",
        "colab": {}
      },
      "source": [
        "%%R\n",
        "IndoorLoc <- IndoorLoc[which(apply(IndoorLoc[, 1:(ncol(IndoorLoc) - 9)], 1, sd) != 0),]\n",
        "\n",
        "IndoorVal<- IndoorVal[which(apply(IndoorVal[,1:(ncol(IndoorVal) - 9)],1,sd)!=0),]"
      ],
      "execution_count": 0,
      "outputs": []
    },
    {
      "cell_type": "markdown",
      "metadata": {
        "id": "gJnfCAhJLH-W",
        "colab_type": "text"
      },
      "source": [
        "#### Keeping all features of Validation data set in Training data set"
      ]
    },
    {
      "cell_type": "code",
      "metadata": {
        "id": "wIhaML6VLMGT",
        "colab_type": "code",
        "colab": {}
      },
      "source": [
        "%%R\n",
        "IndoorLoc <- IndoorLoc[, which(names(IndoorLoc) %in% names(IndoorVal))]\n"
      ],
      "execution_count": 0,
      "outputs": []
    },
    {
      "cell_type": "markdown",
      "metadata": {
        "id": "_K4X6lTELPHX",
        "colab_type": "text"
      },
      "source": [
        "#### Deleting unnecessary columns because 1st case predicting Buildings."
      ]
    },
    {
      "cell_type": "code",
      "metadata": {
        "id": "NS_aetdFLRfT",
        "colab_type": "code",
        "colab": {}
      },
      "source": [
        "%%R\n",
        "IndoorLoc$LONGITUDE<- NULL\n",
        "IndoorLoc$LATITUDE<- NULL\n",
        "IndoorLoc$FLOOR<- NULL\n",
        "\n",
        "\n",
        "IndoorVal$LONGITUDE<- NULL\n",
        "IndoorVal$LATITUDE<- NULL\n",
        "IndoorVal$FLOOR<- NULL"
      ],
      "execution_count": 0,
      "outputs": []
    },
    {
      "cell_type": "markdown",
      "metadata": {
        "id": "-87kdnAiLTpF",
        "colab_type": "text"
      },
      "source": [
        "#### Normalizing trainset and testsets in rows "
      ]
    },
    {
      "cell_type": "code",
      "metadata": {
        "id": "QcJy3bHMLXI4",
        "colab_type": "code",
        "colab": {}
      },
      "source": [
        "%%R\n",
        "IndoorLoc[,1:(ncol(IndoorLoc) - 6)]<-\n",
        "           t(apply(IndoorLoc[,1:(ncol(IndoorLoc) - 6)],1, \n",
        "           function(x)((x)- min(x))/(max(x)- min(x))))\n",
        "\n",
        "\n",
        "IndoorVal[,1:(ncol(IndoorVal) - 6)]<-\n",
        "  t(apply(IndoorVal[,1:(ncol(IndoorVal) - 6)],1, \n",
        "          function(x)((x)- min(x))/(max(x)- min(x))))"
      ],
      "execution_count": 0,
      "outputs": []
    },
    {
      "cell_type": "markdown",
      "metadata": {
        "id": "bpvUtQL3VNtE",
        "colab_type": "text"
      },
      "source": [
        "## Modelling and Prediction\n",
        "\n",
        "\n",
        "\n",
        "\n",
        "\n"
      ]
    },
    {
      "cell_type": "markdown",
      "metadata": {
        "id": "CfRYzV5oWOK5",
        "colab_type": "text"
      },
      "source": [
        "### Predicting Building *ID*"
      ]
    },
    {
      "cell_type": "code",
      "metadata": {
        "id": "BT6unwcYOEC0",
        "colab_type": "code",
        "colab": {}
      },
      "source": [
        "%%R\n",
        "\n",
        "set.seed(123)\n",
        "sampleBID <- IndoorLoc[sample(nrow(IndoorLoc),3000),]\n",
        "\n",
        "\n"
      ],
      "execution_count": 0,
      "outputs": []
    },
    {
      "cell_type": "markdown",
      "metadata": {
        "id": "4Z8muP-LW-mx",
        "colab_type": "text"
      },
      "source": [
        "Dividing sample data set for train and testing"
      ]
    },
    {
      "cell_type": "code",
      "metadata": {
        "id": "cKCGIm8hW6KJ",
        "colab_type": "code",
        "colab": {}
      },
      "source": [
        "%%R\n",
        "intrainBID <- createDataPartition(y=sampleBID$BUILDINGID, p= 0.75, list = FALSE)\n",
        "\n",
        "trainBID <- sampleBID[intrainBID,]\n",
        "testBID <- sampleBID[-intrainBID,]\n"
      ],
      "execution_count": 0,
      "outputs": []
    },
    {
      "cell_type": "markdown",
      "metadata": {
        "id": "rqwHKR7WXbSw",
        "colab_type": "text"
      },
      "source": [
        " Cross- Validation"
      ]
    },
    {
      "cell_type": "code",
      "metadata": {
        "colab_type": "code",
        "id": "yERQmAXXXEY7",
        "colab": {}
      },
      "source": [
        "%%R\n",
        "\n",
        "fitcontrol<- trainControl(method = \"repeatedcv\",number = 3, repeats = 3)\n",
        "\n",
        "\n",
        "\n"
      ],
      "execution_count": 0,
      "outputs": []
    },
    {
      "cell_type": "markdown",
      "metadata": {
        "id": "Cc_tOpiBXn74",
        "colab_type": "text"
      },
      "source": [
        "#### Decision Tree"
      ]
    },
    {
      "cell_type": "code",
      "metadata": {
        "id": "p09yeLdhXkLV",
        "colab_type": "code",
        "colab": {}
      },
      "source": [
        "%%R \n",
        "Dt_model1<- train(BUILDINGID~., data = trainBID, method =\"rpart\", \n",
        "                  trControl= fitcontrol, tuneLength=10, preProcess=c(\"center\",\"scale\"))\n",
        "\n",
        "predictors(Dt_model1)\n",
        "print(Dt_model1)\n",
        "\n",
        "testPred_Dt_wifi <- predict(Dt_model1, testBID)\n"
      ],
      "execution_count": 0,
      "outputs": []
    },
    {
      "cell_type": "markdown",
      "metadata": {
        "id": "cgXfRyfkYKIa",
        "colab_type": "text"
      },
      "source": [
        " Accuracy of Predicting Buildings"
      ]
    },
    {
      "cell_type": "code",
      "metadata": {
        "id": "oc5X5gCdXrMR",
        "colab_type": "code",
        "outputId": "6819af7a-8801-4001-df2e-af89ac6c1c43",
        "colab": {
          "base_uri": "https://localhost:8080/",
          "height": 51
        }
      },
      "source": [
        "%%R\n",
        "postResample(testPred_Dt_wifi, testBID$BUILDINGID)"
      ],
      "execution_count": 0,
      "outputs": [
        {
          "output_type": "display_data",
          "data": {
            "text/plain": [
              "      RMSE   Rsquared        MAE \n",
              "0.14726414 0.96967936 0.03497714 \n"
            ]
          },
          "metadata": {
            "tags": []
          }
        }
      ]
    },
    {
      "cell_type": "markdown",
      "metadata": {
        "id": "-HesDvDiZQem",
        "colab_type": "text"
      },
      "source": [
        "#### KNN"
      ]
    },
    {
      "cell_type": "code",
      "metadata": {
        "id": "vtz1PlkXYCom",
        "colab_type": "code",
        "colab": {}
      },
      "source": [
        "%%R\n",
        "knn_model1<- train(BUILDINGID~., data = trainBID, method =\"knn\", \n",
        "                   trControl= fitcontrol, tuneLength=10, preProcess=c(\"center\",\"scale\"))\n",
        "\n",
        "predictors(knn_model1)\n",
        "\n",
        "testPred_knn_wifi <- predict(knn_model1, testBID)\n"
      ],
      "execution_count": 0,
      "outputs": []
    },
    {
      "cell_type": "markdown",
      "metadata": {
        "colab_type": "text",
        "id": "B1b6Dm29ZYrG"
      },
      "source": [
        "\n",
        "\n",
        "\n",
        " Accuracy of Predicting Buildings"
      ]
    },
    {
      "cell_type": "code",
      "metadata": {
        "id": "4LgIR730Zaoq",
        "colab_type": "code",
        "outputId": "c01254ad-a51f-483b-96f8-da27898eb7f3",
        "colab": {
          "base_uri": "https://localhost:8080/",
          "height": 51
        }
      },
      "source": [
        "%%R\n",
        "postResample(testPred_knn_wifi, testBID$BUILDINGID)"
      ],
      "execution_count": 0,
      "outputs": [
        {
          "output_type": "display_data",
          "data": {
            "text/plain": [
              "       RMSE    Rsquared         MAE \n",
              "0.026348795 0.999023752 0.001869159 \n"
            ]
          },
          "metadata": {
            "tags": []
          }
        }
      ]
    },
    {
      "cell_type": "markdown",
      "metadata": {
        "id": "c-WcgCBaaIJE",
        "colab_type": "text"
      },
      "source": [
        "#### Random Forest"
      ]
    },
    {
      "cell_type": "code",
      "metadata": {
        "id": "MDv_ANSyZ88v",
        "colab_type": "code",
        "colab": {}
      },
      "source": [
        "%%R\n",
        "rf_model1 <- train(BUILDINGID~., data = trainBID, method= \"rf\", \n",
        "                  trControl= fitcontrol, tuneLength= 3)\n",
        "\n",
        "predictors(rf_model1)\n",
        "\n",
        "testPred_rf_wifi <- predict(rf_model1, testBID)\n"
      ],
      "execution_count": 0,
      "outputs": []
    },
    {
      "cell_type": "markdown",
      "metadata": {
        "id": "wPknrh3PaS4i",
        "colab_type": "text"
      },
      "source": [
        " Accuracy of Predicting Buildings"
      ]
    },
    {
      "cell_type": "code",
      "metadata": {
        "id": "JtAxwfaKaTeo",
        "colab_type": "code",
        "colab": {}
      },
      "source": [
        "%%R \n",
        "postResample(testPred_rf_wifi, testBID$BUILDINGID)"
      ],
      "execution_count": 0,
      "outputs": []
    },
    {
      "cell_type": "markdown",
      "metadata": {
        "id": "j_wTqpdSbE0n",
        "colab_type": "text"
      },
      "source": [
        "Applying KNN on the validation dataset"
      ]
    },
    {
      "cell_type": "code",
      "metadata": {
        "id": "noRIaYTobGVz",
        "colab_type": "code",
        "outputId": "485dcc82-c91c-4dcb-dc3a-dae3a3df46c6",
        "colab": {
          "base_uri": "https://localhost:8080/",
          "height": 122
        }
      },
      "source": [
        "%%R\n",
        "ValPred_knn <- predict(knn_model1, testsetBI)\n",
        "postResample(ValPred_knn, testsetBI$BUILDINGID)\n",
        "\n",
        "PredBuildingId <- ValPred_knn"
      ],
      "execution_count": 0,
      "outputs": [
        {
          "output_type": "stream",
          "text": [
            "\n",
            "Error in predict(knn_model1, testsetBI) : object 'knn_model1' not found\n"
          ],
          "name": "stdout"
        },
        {
          "output_type": "stream",
          "text": [
            "/usr/local/lib/python3.6/dist-packages/rpy2/rinterface/__init__.py:146: RRuntimeWarning: Error in predict(knn_model1, testsetBI) : object 'knn_model1' not found\n",
            "\n",
            "  warnings.warn(x, RRuntimeWarning)\n"
          ],
          "name": "stderr"
        }
      ]
    },
    {
      "cell_type": "markdown",
      "metadata": {
        "id": "orJfzSRMcCDL",
        "colab_type": "text"
      },
      "source": [
        "Copied the predicted building IDs in Validation data : IndoorVal"
      ]
    },
    {
      "cell_type": "code",
      "metadata": {
        "id": "uxVCqRIScCTW",
        "colab_type": "code",
        "colab": {}
      },
      "source": [
        "IndoorVal<- IndoorVal%>% mutate(PredBuildingId= paste(PredBuildingId))\n"
      ],
      "execution_count": 0,
      "outputs": []
    },
    {
      "cell_type": "markdown",
      "metadata": {
        "id": "FHin2n-fbaOT",
        "colab_type": "text"
      },
      "source": [
        "#### Plotting Actual Building IDs vs Predicted Building IDs"
      ]
    },
    {
      "cell_type": "code",
      "metadata": {
        "id": "L1gPIdFobilV",
        "colab_type": "code",
        "colab": {}
      },
      "source": [
        "%%R\n",
        "wrongPred_BID <- which(IndoorVal$PredBuildingId != IndoorVal$BUILDINGID)\n",
        "\n",
        "ggplot()+ geom_point(IndoorVal[wrongPred_BID,], mapping = aes(LONGITUDE, LATITUDE, color = colVec[1], alpha = FLOOR))\n",
        "\n",
        "\n",
        "Val3Plot <- ggplot() + geom_point(IndoorVal, aes(x=LONGITUDE, y=LATITUDE)) +\n",
        "  geom_point(IndoorVal[wrongPred_BID,], mapping = aes(LONGITUDE, LATITUDE, color = colVec[1], alpha = FLOOR))\n",
        "  \n",
        "Val3Plot\n",
        "\n",
        "colVec <- c(\"blue\", \"red\")\n",
        "ggplot() +\n",
        "  geom_point(data = IndoorVal, mapping = aes(LONGITUDE, LATITUDE), color = colVec[1], show.legend = TRUE)+\n",
        "  geom_point(data = IndoorVal[wrongPred_BID,], mapping = aes(LONGITUDE, LATITUDE, color = PredBuildingId), size = 5, show.legend = TRUE)\n"
      ],
      "execution_count": 0,
      "outputs": []
    }
  ]
}