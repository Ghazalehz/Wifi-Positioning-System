{
  "nbformat": 4,
  "nbformat_minor": 0,
  "metadata": {
    "colab": {
      "name": "Wifi.ipynb",
      "version": "0.3.2",
      "provenance": [],
      "collapsed_sections": [],
      "include_colab_link": true
    },
    "kernelspec": {
      "name": "python3",
      "display_name": "Python 3"
    },
    "accelerator": "GPU"
  },
  "cells": [
    {
      "cell_type": "markdown",
      "metadata": {
        "id": "view-in-github",
        "colab_type": "text"
      },
      "source": [
        "<a href=\"https://colab.research.google.com/github/Ghazalehz/Wifi-Positioning-System/blob/master/Wifi.ipynb\" target=\"_parent\"><img src=\"https://colab.research.google.com/assets/colab-badge.svg\" alt=\"Open In Colab\"/></a>"
      ]
    },
    {
      "cell_type": "markdown",
      "metadata": {
        "id": "F6PdOipsD0L0",
        "colab_type": "text"
      },
      "source": [
        "#  Project Description"
      ]
    },
    {
      "cell_type": "markdown",
      "metadata": {
        "id": "OfrsICNNDmIx",
        "colab_type": "text"
      },
      "source": [
        "\n",
        "Many real world applications need to know the localization of a user in the world to provide their services. So, automatic user localization has been a hot research topic in the last years.\t\t                      \n",
        "The goal of the project is to build an machine learning model  which will be able to predict the location of an user inside the university Universitat Jaume, Spain. For that, the model will use RSSI signal strength received by mobile handsets of the users in 3 buildings. \t                                                 \n",
        "\n",
        "**Total number of attributes** : 529 \t\t\t\t\t\t\n",
        "\n",
        "1st 520 attributes are RSSI signal intensity. Rests are Longitude, Latitude, Floor, \n",
        "Building ID, Space ID etc.             \n",
        "\n",
        "This piece of code (1st module) will load the data and perform preprocessing.                            \n",
        "\n",
        "**Version:** 1.0                     \n",
        "\n",
        "**Author** : Ghazaleh Zamani\t                      \n",
        "\n",
        "**Date**:    12/10/2018 \t\t\t\t\t\t\t       "
      ]
    },
    {
      "cell_type": "code",
      "metadata": {
        "id": "aqZ5qRxgAHA9",
        "colab_type": "code",
        "colab": {}
      },
      "source": [
        "%reload_ext rpy2.ipython\n"
      ],
      "execution_count": 0,
      "outputs": []
    },
    {
      "cell_type": "markdown",
      "metadata": {
        "id": "BLyQtD6TE5ng",
        "colab_type": "text"
      },
      "source": [
        "#### Mounting drive"
      ]
    },
    {
      "cell_type": "code",
      "metadata": {
        "id": "LotgN748AxsE",
        "colab_type": "code",
        "colab": {}
      },
      "source": [
        "from google.colab import drive\n",
        "drive.mount('/content/drive')"
      ],
      "execution_count": 0,
      "outputs": []
    },
    {
      "cell_type": "code",
      "metadata": {
        "id": "TITo6vtfdC1V",
        "colab_type": "code",
        "colab": {}
      },
      "source": [
        "%%R\n",
        "install.packages('plotly', dependencies = TRUE)"
      ],
      "execution_count": 0,
      "outputs": []
    },
    {
      "cell_type": "code",
      "metadata": {
        "id": "DZ58PPqkUh61",
        "colab_type": "code",
        "colab": {}
      },
      "source": [
        "%%R\n",
        "install.packages('caret', dependencies = TRUE)"
      ],
      "execution_count": 0,
      "outputs": []
    },
    {
      "cell_type": "code",
      "metadata": {
        "id": "6BCH7DdgUlJ7",
        "colab_type": "code",
        "colab": {}
      },
      "source": [
        "%%R\n",
        "#install.packages('anytime', dependencies = TRUE)\n",
        "install.packages('rworldmap', dependencies = TRUE)"
      ],
      "execution_count": 0,
      "outputs": []
    },
    {
      "cell_type": "markdown",
      "metadata": {
        "id": "o16lVlv1FIkF",
        "colab_type": "text"
      },
      "source": [
        "####   Loading libraries"
      ]
    },
    {
      "cell_type": "code",
      "metadata": {
        "id": "1cGBWLAiFNo0",
        "colab_type": "code",
        "colab": {}
      },
      "source": [
        "%%R\n",
        "\n",
        "\n",
        "library(plotly)                     \n",
        "library(ggplot2)                    \n",
        "library(rworldmap)                  \n",
        "library(anytime)                    \n",
        "library(dplyr)                      \n",
        "library(scales)                     \n",
        "library(data.table)                 \n",
        "library(caret)\t\t\t\t\t\t\n"
      ],
      "execution_count": 0,
      "outputs": []
    },
    {
      "cell_type": "code",
      "metadata": {
        "id": "ZtRTw1HtNEJ4",
        "colab_type": "code",
        "colab": {}
      },
      "source": [
        "%%R\n",
        "library(anytime)                    \n"
      ],
      "execution_count": 0,
      "outputs": []
    },
    {
      "cell_type": "markdown",
      "metadata": {
        "id": "AoVgfMQZC7tn",
        "colab_type": "text"
      },
      "source": [
        "### Loading the Data files"
      ]
    },
    {
      "cell_type": "code",
      "metadata": {
        "id": "1IzfGujkAlNM",
        "colab_type": "code",
        "colab": {}
      },
      "source": [
        "%%R\n",
        "\n",
        "IndoorLoc = read.csv ('/content/drive/My Drive/Colab Notebooks/trainingData.csv')\n",
        "IndoorVal = read.csv('/content/drive/My Drive/Colab Notebooks/validationData.csv')"
      ],
      "execution_count": 0,
      "outputs": []
    },
    {
      "cell_type": "markdown",
      "metadata": {
        "id": "5xbsSsJhHcdJ",
        "colab_type": "text"
      },
      "source": [
        "#### Data exploration"
      ]
    },
    {
      "cell_type": "code",
      "metadata": {
        "id": "man7_9RnCz7N",
        "colab_type": "code",
        "colab": {}
      },
      "source": [
        "%%R\n",
        "summary(IndoorLoc)\n",
        "str(IndoorLoc[ncol(IndoorLoc) - 8:ncol(IndoorLoc)])\n",
        "str(IndoorVal[ncol(IndoorVal) - 8:ncol(IndoorVal)])"
      ],
      "execution_count": 0,
      "outputs": []
    },
    {
      "cell_type": "markdown",
      "metadata": {
        "id": "cKOVLM1XITq-",
        "colab_type": "text"
      },
      "source": [
        "#### Changing the attribute types "
      ]
    },
    {
      "cell_type": "code",
      "metadata": {
        "colab_type": "code",
        "id": "Fjk8J20FSMxA",
        "colab": {}
      },
      "source": [
        "%%R\n",
        "IndoorLoc$FLOOR <- as.factor(IndoorLoc$FLOOR)\n",
        "IndoorVal$FLOOR <- as.factor(IndoorVal$FLOOR)\n",
        "IndoorLoc$BUILDINGID <- as.factor(IndoorLoc$BUILDINGID)\n",
        "IndoorVal$BUILDINGID <- as.factor(IndoorVal$BUILDINGID)\n",
        "IndoorLoc$SPACEID <- as.factor(IndoorLoc$SPACEID)\n",
        "IndoorVal$SPACEID <- as.factor(IndoorVal$SPACEID)\n",
        "IndoorLoc$RELATIVEPOSITION <- as.factor(IndoorLoc$RELATIVEPOSITION)\n",
        "IndoorVal$RELATIVEPOSITION <- as.factor(IndoorVal$RELATIVEPOSITION)\n",
        "IndoorLoc$USERID <- as.factor(IndoorLoc$USERID)\n",
        "IndoorVal$USERID <- as.factor(IndoorVal$USERID)\n",
        "IndoorLoc$PHONEID <- as.factor(IndoorLoc$PHONEID)\n",
        "IndoorVal$PHONEID <- as.factor(IndoorVal$PHONEID)\n",
        "IndoorLoc$TIMESTAMP <- anytime(IndoorLoc$TIMESTAMP, tz = \"GMT\")\n",
        "IndoorVal$TIMESTAMP <- anytime(IndoorVal$TIMESTAMP, tz = \"GMT\")\n"
      ],
      "execution_count": 0,
      "outputs": []
    },
    {
      "cell_type": "markdown",
      "metadata": {
        "id": "PNZ3FuTaOusM",
        "colab_type": "text"
      },
      "source": [
        "#### Plotting the locations \n",
        "\n",
        "Training data locations"
      ]
    },
    {
      "cell_type": "code",
      "metadata": {
        "id": "8k52HMfiO9pa",
        "colab_type": "code",
        "outputId": "c25d469d-a4cb-4a24-8df9-b024c14f3ad0",
        "colab": {
          "base_uri": "https://localhost:8080/",
          "height": 497
        }
      },
      "source": [
        "%%R\n",
        "LocationPlot <- ggplot(IndoorLoc, aes(x=LONGITUDE, y=LATITUDE, \n",
        "\t\t\t\t      color = BUILDINGID)) + geom_point()\n",
        "LocationPlot"
      ],
      "execution_count": 13,
      "outputs": [
        {
          "output_type": "display_data",
          "data": {
            "image/png": "[encoded data removed]"
          },
          "metadata": {
            "tags": []
          }
        }
      ]
    },
    {
      "cell_type": "markdown",
      "metadata": {
        "id": "n3nrZVhRP2Ep",
        "colab_type": "text"
      },
      "source": [
        "Validation data locations"
      ]
    },
    {
      "cell_type": "code",
      "metadata": {
        "id": "mgiIt5nNP8XW",
        "colab_type": "code",
        "outputId": "d5e3d9b1-b076-4cc7-a092-ee40d228b91e",
        "colab": {
          "base_uri": "https://localhost:8080/",
          "height": 497
        }
      },
      "source": [
        "%%R\n",
        "ValLocPlot <- ggplot(IndoorVal, aes(x=LONGITUDE, y=LATITUDE, \n",
        "\t\t\t\t    color = BUILDINGID)) + geom_point()\n",
        "ValLocPlot"
      ],
      "execution_count": 14,
      "outputs": [
        {
          "output_type": "display_data",
          "data": {
            "image/png": "[encoded data removed]"
          },
          "metadata": {
            "tags": []
          }
        }
      ]
    },
    {
      "cell_type": "markdown",
      "metadata": {
        "id": "ymCuiEc-QRbq",
        "colab_type": "text"
      },
      "source": [
        "Training & Validation data locations in one image"
      ]
    },
    {
      "cell_type": "code",
      "metadata": {
        "id": "AHXlyJqdQXGd",
        "colab_type": "code",
        "outputId": "f027a8a2-8bca-4ac3-db71-a799e0afb2c8",
        "colab": {
          "base_uri": "https://localhost:8080/",
          "height": 497
        }
      },
      "source": [
        "%%R\n",
        "colVec <- c(\"blue\", \"red\")\n",
        "ggplot() +\n",
        "  geom_point(data = IndoorLoc, mapping = aes(LONGITUDE, LATITUDE, \n",
        "\t\t\t\t\t     color = colVec[1], alpha = FLOOR), \n",
        "\t     color = colVec[1], show.legend = TRUE)+\n",
        "  geom_point(data = IndoorVal, mapping = aes(LONGITUDE, LATITUDE, \n",
        "\t\t\t\t\t     color = colVec[2], alpha = FLOOR), \n",
        "\t     color = colVec[2], show.legend = TRUE)"
      ],
      "execution_count": 15,
      "outputs": [
        {
          "output_type": "display_data",
          "data": {
            "image/png": "[encoded data removed]"
          },
          "metadata": {
            "tags": []
          }
        }
      ]
    },
    {
      "cell_type": "markdown",
      "metadata": {
        "id": "pHNY98alQgUQ",
        "colab_type": "text"
      },
      "source": [
        "#### Histogram of the ranges of RSSI values"
      ]
    },
    {
      "cell_type": "code",
      "metadata": {
        "id": "3PaeedbkQg61",
        "colab_type": "code",
        "outputId": "72e4c586-66ce-4f03-e6df-b6d8ef33764b",
        "colab": {
          "base_uri": "https://localhost:8080/",
          "height": 497
        }
      },
      "source": [
        "%%R\n",
        "Ranges <- subset(IndoorLoc, select = WAP001:WAP520)\n",
        "RangeVector <- c(as.matrix(Ranges))\n",
        "\n",
        "ggplot() + geom_histogram(aes(x = RangeVector), bins = 50) + \n",
        "              ggtitle(\"Range of RSSI values\") + \n",
        "                 theme(plot.title = element_text(hjust = 0.5)) + xlim(-110,1)"
      ],
      "execution_count": 16,
      "outputs": [
        {
          "output_type": "display_data",
          "data": {
            "image/png": "[encoded data removed]"
          },
          "metadata": {
            "tags": []
          }
        }
      ]
    },
    {
      "cell_type": "markdown",
      "metadata": {
        "id": "-ZDl7C90Q34k",
        "colab_type": "text"
      },
      "source": [
        "#### Histogram of WLAN Access Points (WAPs)\n",
        "It shows the number of WAPs detected by a WiFi scan across the number of database records"
      ]
    },
    {
      "cell_type": "code",
      "metadata": {
        "id": "pyhc2j2GQ4O6",
        "colab_type": "code",
        "outputId": "12eda40c-8f26-4999-8811-1c00388f52a7",
        "colab": {
          "base_uri": "https://localhost:8080/",
          "height": 977
        }
      },
      "source": [
        "%%R\n",
        "WAPs <- apply(Ranges, 1, function(x) sum(x!=100))\n",
        "hist(WAPs)\n",
        "\t      \n",
        "ggplot() + geom_histogram(aes(x = WAPs), bins = 52) + \n",
        "\t      ggtitle(\"Distribution of number of WAPs among all observations\") + \n",
        "                 theme(plot.title = element_text(hjust = 0.5))"
      ],
      "execution_count": 17,
      "outputs": [
        {
          "output_type": "display_data",
          "data": {
            "image/png": "[encoded data removed]"
          },
          "metadata": {
            "tags": []
          }
        },
        {
          "output_type": "display_data",
          "data": {
            "image/png": "[encoded data removed]"
          },
          "metadata": {
            "tags": []
          }
        }
      ]
    },
    {
      "cell_type": "markdown",
      "metadata": {
        "id": "gSYq_1WcIY-d",
        "colab_type": "text"
      },
      "source": [
        "##  PREPROCESSING    \n",
        "\n",
        "The preprocessing has been applied to both training and validation set. "
      ]
    },
    {
      "cell_type": "markdown",
      "metadata": {
        "id": "yoQZEIteIjKG",
        "colab_type": "text"
      },
      "source": [
        "\n",
        "RSSI signal strength '100' means there is no signal\n",
        "Therefore RSSI signal values are changed from '100' to '-105' dBm"
      ]
    },
    {
      "cell_type": "code",
      "metadata": {
        "colab_type": "code",
        "id": "SdvgG9dF9JHF",
        "colab": {}
      },
      "source": [
        "%%R\n",
        "\n",
        "IndoorLoc = read.csv ('/content/drive/My Drive/Colab Notebooks/trainingData.csv')\n",
        "IndoorVal = read.csv('/content/drive/My Drive/Colab Notebooks/validationData.csv')"
      ],
      "execution_count": 0,
      "outputs": []
    },
    {
      "cell_type": "markdown",
      "metadata": {
        "id": "C_mDvGhiCQTN",
        "colab_type": "text"
      },
      "source": [
        "The signal strength above -30 dbM are clearly outliers."
      ]
    },
    {
      "cell_type": "code",
      "metadata": {
        "id": "oaxkoO9zBZnK",
        "colab_type": "code",
        "outputId": "21372586-4a82-4a73-e9b4-c81a5f2fd184",
        "colab": {
          "base_uri": "https://localhost:8080/",
          "height": 497
        }
      },
      "source": [
        "%%R\n",
        "plot ( x = as.factor(rep(colnames(IndoorLoc)[1:520],nrow(IndoorLoc))), \n",
        "       y = c(t(IndoorLoc[,1:520])))\n"
      ],
      "execution_count": 208,
      "outputs": [
        {
          "output_type": "display_data",
          "data": {
            "image/png": "[encoded data removed]"
          },
          "metadata": {
            "tags": []
          }
        }
      ]
    },
    {
      "cell_type": "code",
      "metadata": {
        "id": "wqgcdTd9IdVb",
        "colab_type": "code",
        "colab": {}
      },
      "source": [
        "%%R\n",
        "IndoorLoc[IndoorLoc==100]<- -105\n",
        "IndoorVal[IndoorVal==100]<- -105"
      ],
      "execution_count": 0,
      "outputs": []
    },
    {
      "cell_type": "markdown",
      "metadata": {
        "id": "pCQ3ZHTcIx9N",
        "colab_type": "text"
      },
      "source": [
        "#### Taking columns that contain only -105 out."
      ]
    },
    {
      "cell_type": "markdown",
      "metadata": {
        "id": "UWuFzbAAI2oP",
        "colab_type": "text"
      },
      "source": [
        "Training DataSet"
      ]
    },
    {
      "cell_type": "code",
      "metadata": {
        "id": "XReay61QI4ya",
        "colab_type": "code",
        "colab": {}
      },
      "source": [
        "%%R\n",
        "noSignal <- (as.data.frame(lapply((apply(IndoorLoc, 2, max)), function(x)\n",
        "{ifelse (x == -105, TRUE, FALSE)})))\n",
        "\n",
        "\n"
      ],
      "execution_count": 0,
      "outputs": []
    },
    {
      "cell_type": "code",
      "metadata": {
        "id": "OmL4XldK9RXe",
        "colab_type": "code",
        "colab": {}
      },
      "source": [
        "%%R\n",
        "IndoorLoc <- IndoorLoc[,!noSignal]\n"
      ],
      "execution_count": 0,
      "outputs": []
    },
    {
      "cell_type": "markdown",
      "metadata": {
        "id": "zjotMHBdJRQX",
        "colab_type": "text"
      },
      "source": [
        "Validation DataSet"
      ]
    },
    {
      "cell_type": "code",
      "metadata": {
        "id": "hxYLD_aYJV6E",
        "colab_type": "code",
        "colab": {}
      },
      "source": [
        "%%R\n",
        "noSignal <- NULL\n",
        "noSignal <- (as.data.frame(lapply((apply(IndoorVal, 2, max)), function(x)\n",
        "{ifelse (x == -105, TRUE, FALSE)})))\n",
        "\n",
        "IndoorVal <- IndoorVal[,!noSignal]"
      ],
      "execution_count": 0,
      "outputs": []
    },
    {
      "cell_type": "markdown",
      "metadata": {
        "id": "posuboWnJgCX",
        "colab_type": "text"
      },
      "source": [
        "#### Taking out rows that have no WAP measurements"
      ]
    },
    {
      "cell_type": "markdown",
      "metadata": {
        "id": "sGpYqrToJlp4",
        "colab_type": "text"
      },
      "source": [
        "Training DataSet"
      ]
    },
    {
      "cell_type": "code",
      "metadata": {
        "id": "PI1nnpPKJjZy",
        "colab_type": "code",
        "colab": {}
      },
      "source": [
        "%%R\n",
        "IndoorLoc <- IndoorLoc[apply(IndoorLoc[,1:(ncol(IndoorLoc)-9)], 1, function(x) \n",
        "{ifelse(max(x) == -105, FALSE, TRUE)}),]"
      ],
      "execution_count": 0,
      "outputs": []
    },
    {
      "cell_type": "markdown",
      "metadata": {
        "id": "t-vorRx8Jpq-",
        "colab_type": "text"
      },
      "source": [
        "Validation DataSet"
      ]
    },
    {
      "cell_type": "code",
      "metadata": {
        "id": "gojCsIL2JraF",
        "colab_type": "code",
        "colab": {}
      },
      "source": [
        "%%R\n",
        "IndoorVal <- IndoorVal[apply(IndoorVal[,1:(ncol(IndoorVal)-9)], 1, function(x) \n",
        "{ifelse(max(x) == -105, FALSE, TRUE)}),]\n"
      ],
      "execution_count": 0,
      "outputs": []
    },
    {
      "cell_type": "markdown",
      "metadata": {
        "id": "jpn2lYSkJuqG",
        "colab_type": "text"
      },
      "source": [
        "####  Remove columns with Near Zero variance\n",
        "\n",
        "\n",
        "Number of columns with near zero variance \n",
        "\n",
        "deleteCols- Columns to be deleted"
      ]
    },
    {
      "cell_type": "code",
      "metadata": {
        "id": "Wg0fxmRQKJIJ",
        "colab_type": "code",
        "colab": {}
      },
      "source": [
        "%%R\n",
        "deleteCols <- nearZeroVar(IndoorLoc[,1:(ncol(IndoorLoc) - 9)], \n",
        "                                        saveMetrics = TRUE, uniqueCut = 0.015)$nzv\n",
        "\n",
        "IndoorLoc <- IndoorLoc[ , !(names(IndoorLoc) %in% colnames(IndoorLoc[,deleteCols]))]\n"
      ],
      "execution_count": 0,
      "outputs": []
    },
    {
      "cell_type": "markdown",
      "metadata": {
        "id": "8WMWCNK7Kdlk",
        "colab_type": "text"
      },
      "source": [
        "The number of individual measures inside range [−30dBm - 0dBm] is insignificant \n",
        "It cover approx 1% of total RSSI levels recorded in the database\n",
        "\n",
        "So excluding WAPs with the signal range [−30dBm - 0dBm] as those are outliers.\n"
      ]
    },
    {
      "cell_type": "code",
      "metadata": {
        "id": "wiAVvetKKnOH",
        "colab_type": "code",
        "colab": {}
      },
      "source": [
        "%%R\n",
        "IndoorLoc <- IndoorLoc%>% mutate( not_wap30_0 = apply(IndoorLoc[,1:(ncol(IndoorLoc)-9)], 1, \n",
        "                                                 function(x) !(TRUE %in% (x > -30 & x <= 0))))                           \n",
        "\n",
        "IndoorLoc <- IndoorLoc[IndoorLoc$not_wap30_0,]\n",
        "  \n",
        "IndoorLoc$not_wap30_0 <- NULL"
      ],
      "execution_count": 0,
      "outputs": []
    },
    {
      "cell_type": "markdown",
      "metadata": {
        "id": "Kwqy7veWK9E-",
        "colab_type": "text"
      },
      "source": [
        "#### Removing duplicate rows in both Training and Validation sets"
      ]
    },
    {
      "cell_type": "code",
      "metadata": {
        "id": "33p_w51CK-WI",
        "colab_type": "code",
        "colab": {}
      },
      "source": [
        "%%R\n",
        "IndoorLoc <- unique(IndoorLoc)\n",
        "IndoorVal <- unique(IndoorVal) "
      ],
      "execution_count": 0,
      "outputs": []
    },
    {
      "cell_type": "markdown",
      "metadata": {
        "id": "Gjtr0voeLDgf",
        "colab_type": "text"
      },
      "source": [
        "Normalizing Training and validation sets so that standard deviation = 0,\n",
        "It will also prevent any NA values\n"
      ]
    },
    {
      "cell_type": "code",
      "metadata": {
        "id": "8FGUiVA_LEQr",
        "colab_type": "code",
        "colab": {}
      },
      "source": [
        "%%R\n",
        "IndoorLoc <- IndoorLoc[which(apply(IndoorLoc[, 1:(ncol(IndoorLoc) - 9)], 1, sd) != 0),]\n",
        "\n",
        "IndoorVal<- IndoorVal[which(apply(IndoorVal[,1:(ncol(IndoorVal) - 9)],1,sd)!=0),]"
      ],
      "execution_count": 0,
      "outputs": []
    },
    {
      "cell_type": "markdown",
      "metadata": {
        "id": "gJnfCAhJLH-W",
        "colab_type": "text"
      },
      "source": [
        "#### Keeping all features of Validation data set in Training data set"
      ]
    },
    {
      "cell_type": "code",
      "metadata": {
        "id": "wIhaML6VLMGT",
        "colab_type": "code",
        "colab": {}
      },
      "source": [
        "%%R\n",
        "IndoorLoc <- IndoorLoc[, which(names(IndoorLoc) %in% names(IndoorVal))]\n"
      ],
      "execution_count": 0,
      "outputs": []
    },
    {
      "cell_type": "markdown",
      "metadata": {
        "id": "Lr1EK23l99SR",
        "colab_type": "text"
      },
      "source": [
        "Converting data types prior modelling"
      ]
    },
    {
      "cell_type": "code",
      "metadata": {
        "colab_type": "code",
        "id": "1ijuC-BQ97Ll",
        "colab": {}
      },
      "source": [
        "%%R\n",
        "IndoorLoc$FLOOR <- as.factor(IndoorLoc$FLOOR)\n",
        "IndoorVal$FLOOR <- as.factor(IndoorVal$FLOOR)\n",
        "IndoorLoc$BUILDINGID <- as.factor(IndoorLoc$BUILDINGID)\n",
        "IndoorVal$BUILDINGID <- as.factor(IndoorVal$BUILDINGID)\n",
        "IndoorLoc$SPACEID <- as.factor(IndoorLoc$SPACEID)\n",
        "IndoorVal$SPACEID <- as.factor(IndoorVal$SPACEID)\n",
        "IndoorLoc$RELATIVEPOSITION <- as.factor(IndoorLoc$RELATIVEPOSITION)\n",
        "IndoorVal$RELATIVEPOSITION <- as.factor(IndoorVal$RELATIVEPOSITION)\n",
        "IndoorLoc$USERID <- as.factor(IndoorLoc$USERID)\n",
        "IndoorVal$USERID <- as.factor(IndoorVal$USERID)\n",
        "IndoorLoc$PHONEID <- as.factor(IndoorLoc$PHONEID)\n",
        "IndoorVal$PHONEID <- as.factor(IndoorVal$PHONEID)\n",
        "IndoorLoc$TIMESTAMP <- anytime(IndoorLoc$TIMESTAMP, tz = \"GMT\")\n",
        "IndoorVal$TIMESTAMP <- anytime(IndoorVal$TIMESTAMP, tz = \"GMT\")\n"
      ],
      "execution_count": 0,
      "outputs": []
    },
    {
      "cell_type": "markdown",
      "metadata": {
        "id": "WeqYdSP0-FdP",
        "colab_type": "text"
      },
      "source": [
        "#### Deleting unnecessary columns because 1st case predicting Buildings."
      ]
    },
    {
      "cell_type": "code",
      "metadata": {
        "id": "NS_aetdFLRfT",
        "colab_type": "code",
        "colab": {}
      },
      "source": [
        "%%R\n",
        "\n",
        "IndoorLoc$FLOOR<- NULL\n",
        "IndoorLoc$SPACEID <- NULL\n",
        "IndoorLoc$RELATIVEPOSITION <- NULL\n",
        "IndoorLoc$USERID <- NULL\n",
        "IndoorLoc$PHONEID <- NULL\n",
        "\n",
        "\n",
        "IndoorVal$FLOOR<- NULL\n",
        "IndoorVal$SPACEID <- NULL\n",
        "IndoorVal$RELATIVEPOSITION <- NULL\n",
        "IndoorVal$USERID <- NULL\n",
        "IndoorVal$PHONEID <- NULL\n"
      ],
      "execution_count": 0,
      "outputs": []
    },
    {
      "cell_type": "markdown",
      "metadata": {
        "id": "-87kdnAiLTpF",
        "colab_type": "text"
      },
      "source": [
        "#### Normalizing trainset and testsets in rows "
      ]
    },
    {
      "cell_type": "code",
      "metadata": {
        "id": "QcJy3bHMLXI4",
        "colab_type": "code",
        "colab": {}
      },
      "source": [
        "%%R\n",
        "IndoorLoc[,1:(ncol(IndoorLoc) - 6)]<-\n",
        "           t(apply(IndoorLoc[,1:(ncol(IndoorLoc) - 6)],1, \n",
        "           function(x)((x)- min(x))/(max(x)- min(x))))\n",
        "\n",
        "\n",
        "IndoorVal[,1:(ncol(IndoorVal) - 6)]<-\n",
        "  t(apply(IndoorVal[,1:(ncol(IndoorVal) - 6)],1, \n",
        "          function(x)((x)- min(x))/(max(x)- min(x))))"
      ],
      "execution_count": 0,
      "outputs": []
    },
    {
      "cell_type": "markdown",
      "metadata": {
        "id": "bpvUtQL3VNtE",
        "colab_type": "text"
      },
      "source": [
        "## Modelling and Prediction\n",
        "\n",
        "\n",
        "\n",
        "\n",
        "\n"
      ]
    },
    {
      "cell_type": "markdown",
      "metadata": {
        "id": "CfRYzV5oWOK5",
        "colab_type": "text"
      },
      "source": [
        "### Predicting Building *ID*"
      ]
    },
    {
      "cell_type": "code",
      "metadata": {
        "id": "BT6unwcYOEC0",
        "colab_type": "code",
        "colab": {}
      },
      "source": [
        "%%R\n",
        "\n",
        "set.seed(123)\n",
        "sampleBID <- IndoorLoc[sample(nrow(IndoorLoc),3000),]\n",
        "\n",
        "\n"
      ],
      "execution_count": 0,
      "outputs": []
    },
    {
      "cell_type": "markdown",
      "metadata": {
        "id": "4Z8muP-LW-mx",
        "colab_type": "text"
      },
      "source": [
        "Dividing sample data set for train and testing"
      ]
    },
    {
      "cell_type": "code",
      "metadata": {
        "id": "cKCGIm8hW6KJ",
        "colab_type": "code",
        "colab": {}
      },
      "source": [
        "%%R\n",
        "intrainBID <- createDataPartition(y=sampleBID$BUILDINGID, p= 0.75, list = FALSE)\n",
        "\n",
        "trainBID <- sampleBID[intrainBID,]\n",
        "testBID <- sampleBID[-intrainBID,]\n"
      ],
      "execution_count": 0,
      "outputs": []
    },
    {
      "cell_type": "markdown",
      "metadata": {
        "id": "rqwHKR7WXbSw",
        "colab_type": "text"
      },
      "source": [
        " Cross- Validation"
      ]
    },
    {
      "cell_type": "code",
      "metadata": {
        "colab_type": "code",
        "id": "yERQmAXXXEY7",
        "colab": {}
      },
      "source": [
        "%%R\n",
        "\n",
        "fitcontrol<- trainControl(method = \"repeatedcv\",number = 3, repeats = 3)\n",
        "\n",
        "\n",
        "\n"
      ],
      "execution_count": 0,
      "outputs": []
    },
    {
      "cell_type": "markdown",
      "metadata": {
        "id": "Cc_tOpiBXn74",
        "colab_type": "text"
      },
      "source": [
        "#### Decision Tree"
      ]
    },
    {
      "cell_type": "code",
      "metadata": {
        "id": "p09yeLdhXkLV",
        "colab_type": "code",
        "colab": {}
      },
      "source": [
        "%%R \n",
        "Dt_model1<- train(BUILDINGID~., data = trainBID, method =\"rpart\", \n",
        "                  trControl= fitcontrol, tuneLength=10, preProcess=c(\"center\",\"scale\"))\n",
        "\n",
        "predictors(Dt_model1)\n",
        "print(Dt_model1)\n",
        "\n",
        "testPred_Dt_wifi <- predict(Dt_model1, testBID)\n"
      ],
      "execution_count": 0,
      "outputs": []
    },
    {
      "cell_type": "markdown",
      "metadata": {
        "id": "cgXfRyfkYKIa",
        "colab_type": "text"
      },
      "source": [
        " Accuracy of Predicting Buildings"
      ]
    },
    {
      "cell_type": "code",
      "metadata": {
        "id": "oc5X5gCdXrMR",
        "colab_type": "code",
        "outputId": "cf815622-a6e9-41d5-8f1c-47fbd5482470",
        "colab": {
          "base_uri": "https://localhost:8080/",
          "height": 51
        }
      },
      "source": [
        "%%R\n",
        "postResample(testPred_Dt_wifi, testBID$BUILDINGID)"
      ],
      "execution_count": 65,
      "outputs": [
        {
          "output_type": "display_data",
          "data": {
            "text/plain": [
              " Accuracy     Kappa \n",
              "0.9786382 0.9668121 \n"
            ]
          },
          "metadata": {
            "tags": []
          }
        }
      ]
    },
    {
      "cell_type": "markdown",
      "metadata": {
        "id": "-HesDvDiZQem",
        "colab_type": "text"
      },
      "source": [
        "#### KNN"
      ]
    },
    {
      "cell_type": "code",
      "metadata": {
        "id": "vtz1PlkXYCom",
        "colab_type": "code",
        "colab": {}
      },
      "source": [
        "%%R\n",
        "knn_model1<- train(BUILDINGID~., data = trainBID, method =\"knn\", \n",
        "                   trControl= fitcontrol, tuneLength=10, preProcess=c(\"center\",\"scale\"))\n",
        "\n",
        "predictors(knn_model1)\n",
        "\n",
        "testPred_knn_wifi <- predict(knn_model1, testBID)\n"
      ],
      "execution_count": 0,
      "outputs": []
    },
    {
      "cell_type": "markdown",
      "metadata": {
        "colab_type": "text",
        "id": "B1b6Dm29ZYrG"
      },
      "source": [
        "\n",
        "\n",
        "\n",
        " Accuracy of Predicting Buildings"
      ]
    },
    {
      "cell_type": "code",
      "metadata": {
        "id": "4LgIR730Zaoq",
        "colab_type": "code",
        "outputId": "89d323e5-3ba4-4913-81bd-d3adde8f3084",
        "colab": {
          "base_uri": "https://localhost:8080/",
          "height": 51
        }
      },
      "source": [
        "%%R\n",
        "postResample(testPred_knn_wifi, testBID$BUILDINGID)"
      ],
      "execution_count": 247,
      "outputs": [
        {
          "output_type": "display_data",
          "data": {
            "text/plain": [
              "Accuracy    Kappa \n",
              "       1        1 \n"
            ]
          },
          "metadata": {
            "tags": []
          }
        }
      ]
    },
    {
      "cell_type": "markdown",
      "metadata": {
        "id": "c-WcgCBaaIJE",
        "colab_type": "text"
      },
      "source": [
        "#### Random Forest"
      ]
    },
    {
      "cell_type": "code",
      "metadata": {
        "id": "MDv_ANSyZ88v",
        "colab_type": "code",
        "colab": {}
      },
      "source": [
        "%%R\n",
        "rf_model1 <- train(BUILDINGID~., data = trainBID, method= \"rf\", \n",
        "                  trControl= fitcontrol, tuneLength= 3)\n",
        "\n",
        "predictors(rf_model1)\n",
        "\n",
        "testPred_rf_wifi <- predict(rf_model1, testBID)\n"
      ],
      "execution_count": 0,
      "outputs": []
    },
    {
      "cell_type": "markdown",
      "metadata": {
        "id": "wPknrh3PaS4i",
        "colab_type": "text"
      },
      "source": [
        " Accuracy of Predicting Buildings"
      ]
    },
    {
      "cell_type": "code",
      "metadata": {
        "id": "JtAxwfaKaTeo",
        "colab_type": "code",
        "colab": {}
      },
      "source": [
        "%%R \n",
        "postResample(testPred_rf_wifi, testBID$BUILDINGID)"
      ],
      "execution_count": 0,
      "outputs": []
    },
    {
      "cell_type": "markdown",
      "metadata": {
        "id": "j_wTqpdSbE0n",
        "colab_type": "text"
      },
      "source": [
        "#### Applying KNN on the validation dataset"
      ]
    },
    {
      "cell_type": "code",
      "metadata": {
        "id": "noRIaYTobGVz",
        "colab_type": "code",
        "outputId": "9a14303d-b77f-4858-ac6d-0b405ddcb23f",
        "colab": {
          "base_uri": "https://localhost:8080/",
          "height": 68
        }
      },
      "source": [
        "%%R\n",
        "\n",
        "ValPred_knn <- predict(knn_model1,IndoorVal )\n",
        "\n",
        "table(ValPred_knn)"
      ],
      "execution_count": 228,
      "outputs": [
        {
          "output_type": "display_data",
          "data": {
            "text/plain": [
              "ValPred_knn\n",
              "  0   1   2 \n",
              "526 303 282 \n"
            ]
          },
          "metadata": {
            "tags": []
          }
        }
      ]
    },
    {
      "cell_type": "markdown",
      "metadata": {
        "id": "orJfzSRMcCDL",
        "colab_type": "text"
      },
      "source": [
        "Copied the predicted building IDs in Validation data : IndoorVal"
      ]
    },
    {
      "cell_type": "code",
      "metadata": {
        "id": "uxVCqRIScCTW",
        "colab_type": "code",
        "colab": {}
      },
      "source": [
        "%%R\n",
        "IndoorVal<- IndoorVal%>% mutate(PredBuildingId= paste(ValPred_knn))\n"
      ],
      "execution_count": 0,
      "outputs": []
    },
    {
      "cell_type": "markdown",
      "metadata": {
        "id": "FHin2n-fbaOT",
        "colab_type": "text"
      },
      "source": [
        "#### Plotting Actual Building IDs vs Predicted Building IDs"
      ]
    },
    {
      "cell_type": "code",
      "metadata": {
        "id": "L1gPIdFobilV",
        "colab_type": "code",
        "colab": {}
      },
      "source": [
        "%%R\n",
        "wrongPred_BID <- which(IndoorVal$PredBuildingId != IndoorVal$BUILDINGID)\n",
        "\n",
        "\n"
      ],
      "execution_count": 0,
      "outputs": []
    },
    {
      "cell_type": "markdown",
      "metadata": {
        "id": "S50fi6dCSIjY",
        "colab_type": "text"
      },
      "source": [
        "Red dots are misclassified Building IDs"
      ]
    },
    {
      "cell_type": "code",
      "metadata": {
        "id": "pp_1ly7JP-jK",
        "colab_type": "code",
        "colab": {
          "base_uri": "https://localhost:8080/",
          "height": 497
        },
        "outputId": "1ae049f8-b0b6-461c-b8f2-2c4c7f4d7ee1"
      },
      "source": [
        "%%R\n",
        "\n",
        "building_plot  <- ggplot(IndoorVal, aes(LONGITUDE, LATITUDE)) + \n",
        "    geom_point() +\n",
        "    geom_point(data = IndoorVal[wrongPred_BID,], color = 'red')\n",
        "    \n",
        "\n",
        "building_plot\n",
        "\n"
      ],
      "execution_count": 240,
      "outputs": [
        {
          "output_type": "display_data",
          "data": {
            "image/png": "[encoded data removed]"
          },
          "metadata": {
            "tags": []
          }
        }
      ]
    },
    {
      "cell_type": "code",
      "metadata": {
        "id": "q7o6L1d-K9oi",
        "colab_type": "code",
        "colab": {}
      },
      "source": [
        ""
      ],
      "execution_count": 0,
      "outputs": []
    }
  ]
}