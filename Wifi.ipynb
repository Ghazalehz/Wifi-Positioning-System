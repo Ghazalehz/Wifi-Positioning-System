{
  "nbformat": 4,
  "nbformat_minor": 0,
  "metadata": {
    "colab": {
      "name": "Wifi.ipynb",
      "version": "0.3.2",
      "provenance": [],
      "include_colab_link": true
    },
    "kernelspec": {
      "name": "python3",
      "display_name": "Python 3"
    }
  },
  "cells": [
    {
      "cell_type": "markdown",
      "metadata": {
        "id": "view-in-github",
        "colab_type": "text"
      },
      "source": [
        "<a href=\"https://colab.research.google.com/github/Ghazalehz/Wifi-Positioning-System/blob/master/Wifi.ipynb\" target=\"_parent\"><img src=\"https://colab.research.google.com/assets/colab-badge.svg\" alt=\"Open In Colab\"/></a>"
      ]
    },
    {
      "cell_type": "markdown",
      "metadata": {
        "id": "F6PdOipsD0L0",
        "colab_type": "text"
      },
      "source": [
        "## Project Description"
      ]
    },
    {
      "cell_type": "markdown",
      "metadata": {
        "id": "OfrsICNNDmIx",
        "colab_type": "text"
      },
      "source": [
        "\n",
        "Many real world applications need to know the localization of a user in the world to provide their services. So, automatic user localization has been a hot research topic in the last years.\t\t                      \n",
        "The goal of the project is to build an machine learning model  which will be able to predict the location of an user inside the university Universitat Jaume, Spain. For that, the model will use RSSI signal strength received by mobile handsets of the users in 3 buildings. \t                                                 \n",
        "\n",
        "**Total number of attributes** : 529 \t\t\t\t\t\t\n",
        "\n",
        "1st 520 attributes are RSSI signal intensity. Rests are Longitude, Latitude, Floor, \n",
        "Building ID, Space ID etc.             \n",
        "\n",
        "This piece of code (1st module) will load the data and perform preprocessing.                            \n",
        "\n",
        "**Version:** 1.0                     \n",
        "\n",
        "**Author** : Ghazaleh Zamani\t                      \n",
        "\n",
        "**Date**:    12/10/2018 \t\t\t\t\t\t\t       "
      ]
    },
    {
      "cell_type": "code",
      "metadata": {
        "id": "aqZ5qRxgAHA9",
        "colab_type": "code",
        "colab": {}
      },
      "source": [
        "%reload_ext rpy2.ipython\n"
      ],
      "execution_count": 0,
      "outputs": []
    },
    {
      "cell_type": "markdown",
      "metadata": {
        "id": "BLyQtD6TE5ng",
        "colab_type": "text"
      },
      "source": [
        "#### Mounting drive"
      ]
    },
    {
      "cell_type": "code",
      "metadata": {
        "id": "LotgN748AxsE",
        "colab_type": "code",
        "colab": {
          "base_uri": "https://localhost:8080/",
          "height": 34
        },
        "outputId": "3e55e75d-2ef4-44be-d883-5325f6835334"
      },
      "source": [
        "from google.colab import drive\n",
        "drive.mount('/content/drive')"
      ],
      "execution_count": 8,
      "outputs": [
        {
          "output_type": "stream",
          "text": [
            "Drive already mounted at /content/drive; to attempt to forcibly remount, call drive.mount(\"/content/drive\", force_remount=True).\n"
          ],
          "name": "stdout"
        }
      ]
    },
    {
      "cell_type": "markdown",
      "metadata": {
        "id": "o16lVlv1FIkF",
        "colab_type": "text"
      },
      "source": [
        "####   Loading libraries"
      ]
    },
    {
      "cell_type": "code",
      "metadata": {
        "id": "1cGBWLAiFNo0",
        "colab_type": "code",
        "colab": {}
      },
      "source": [
        "%%R\n",
        "\n",
        "\n",
        "library(plotly)                     \n",
        "library(ggplot2)                    \n",
        "library(rworldmap)                  \n",
        "library(anytime)                    \n",
        "library(dplyr)                      \n",
        "library(scales)                     \n",
        "library(data.table)                 \n",
        "library(caret)\t\t\t\t\t\t\n"
      ],
      "execution_count": 0,
      "outputs": []
    },
    {
      "cell_type": "code",
      "metadata": {
        "id": "ZtRTw1HtNEJ4",
        "colab_type": "code",
        "colab": {}
      },
      "source": [
        "%%R\n",
        "library(anytime)                    \n"
      ],
      "execution_count": 0,
      "outputs": []
    },
    {
      "cell_type": "markdown",
      "metadata": {
        "id": "AoVgfMQZC7tn",
        "colab_type": "text"
      },
      "source": [
        "### Loading the Data files"
      ]
    },
    {
      "cell_type": "code",
      "metadata": {
        "id": "1IzfGujkAlNM",
        "colab_type": "code",
        "colab": {}
      },
      "source": [
        "%%R\n",
        "\n",
        "IndoorLoc = read.csv ('/content/drive/My Drive/Colab Notebooks/trainingData.csv')\n",
        "IndoorVal = read.csv('/content/drive/My Drive/Colab Notebooks/validationData.csv')"
      ],
      "execution_count": 0,
      "outputs": []
    },
    {
      "cell_type": "markdown",
      "metadata": {
        "id": "5xbsSsJhHcdJ",
        "colab_type": "text"
      },
      "source": [
        "#### Data exploration"
      ]
    },
    {
      "cell_type": "code",
      "metadata": {
        "id": "man7_9RnCz7N",
        "colab_type": "code",
        "colab": {}
      },
      "source": [
        "%%R\n",
        "summary(IndoorLoc)\n",
        "str(IndoorLoc[ncol(IndoorLoc) - 8:ncol(IndoorLoc)])\n",
        "str(IndoorVal[ncol(IndoorVal) - 8:ncol(IndoorVal)])"
      ],
      "execution_count": 0,
      "outputs": []
    },
    {
      "cell_type": "markdown",
      "metadata": {
        "id": "PNZ3FuTaOusM",
        "colab_type": "text"
      },
      "source": [
        "#### Plotting the locations \n",
        "\n",
        "Training data locations"
      ]
    },
    {
      "cell_type": "code",
      "metadata": {
        "id": "8k52HMfiO9pa",
        "colab_type": "code",
        "colab": {
          "base_uri": "https://localhost:8080/",
          "height": 497
        },
        "outputId": "b69b788b-2c13-457b-ecde-7e9386e9b04e"
      },
      "source": [
        "%%R\n",
        "LocationPlot <- ggplot(IndoorLoc, aes(x=LONGITUDE, y=LATITUDE, \n",
        "\t\t\t\t      color = BUILDINGID)) + geom_point()\n",
        "LocationPlot"
      ],
      "execution_count": 58,
      "outputs": [
        {
          "output_type": "display_data",
          "data": {
            "image/png": "[encoded data removed]"
          },
          "metadata": {
            "tags": []
          }
        }
      ]
    },
    {
      "cell_type": "markdown",
      "metadata": {
        "id": "cKOVLM1XITq-",
        "colab_type": "text"
      },
      "source": [
        "#### Changing the attribute types "
      ]
    },
    {
      "cell_type": "code",
      "metadata": {
        "id": "mrlSWUViIVYN",
        "colab_type": "code",
        "colab": {}
      },
      "source": [
        "%%R\n",
        "IndoorLoc$FLOOR <- as.factor(IndoorLoc$FLOOR)\n",
        "IndoorVal$FLOOR <- as.factor(IndoorVal$FLOOR)\n",
        "IndoorLoc$BUILDINGID <- as.factor(IndoorLoc$BUILDINGID)\n",
        "IndoorVal$BUILDINGID <- as.factor(IndoorVal$BUILDINGID)\n",
        "IndoorLoc$SPACEID <- as.factor(IndoorLoc$SPACEID)\n",
        "IndoorVal$SPACEID <- as.factor(IndoorVal$SPACEID)\n",
        "IndoorLoc$RELATIVEPOSITION <- as.factor(IndoorLoc$RELATIVEPOSITION)\n",
        "IndoorVal$RELATIVEPOSITION <- as.factor(IndoorVal$RELATIVEPOSITION)\n",
        "IndoorLoc$USERID <- as.factor(IndoorLoc$USERID)\n",
        "IndoorVal$USERID <- as.factor(IndoorVal$USERID)\n",
        "IndoorLoc$PHONEID <- as.factor(IndoorLoc$PHONEID)\n",
        "IndoorVal$PHONEID <- as.factor(IndoorVal$PHONEID)\n",
        "IndoorLoc$TIMESTAMP <- anytime(IndoorLoc$TIMESTAMP, tz = \"GMT\")\n",
        "IndoorVal$TIMESTAMP <- anytime(IndoorVal$TIMESTAMP, tz = \"GMT\")\n"
      ],
      "execution_count": 0,
      "outputs": []
    },
    {
      "cell_type": "markdown",
      "metadata": {
        "id": "gSYq_1WcIY-d",
        "colab_type": "text"
      },
      "source": [
        "###  PREPROCESSING    \n",
        "\n",
        "The preprocessing has been applied to both training and validation set. "
      ]
    },
    {
      "cell_type": "markdown",
      "metadata": {
        "id": "yoQZEIteIjKG",
        "colab_type": "text"
      },
      "source": [
        "\n",
        "RSSI signal strength '100' means there is no signal\n",
        "Therefore RSSI signal values are changed from '100' to '-105' dBm"
      ]
    },
    {
      "cell_type": "code",
      "metadata": {
        "id": "wqgcdTd9IdVb",
        "colab_type": "code",
        "colab": {}
      },
      "source": [
        "%%R\n",
        "IndoorLoc[IndoorLoc==100]<- -105\n",
        "IndoorVal[IndoorVal==100]<- -105\n"
      ],
      "execution_count": 0,
      "outputs": []
    },
    {
      "cell_type": "markdown",
      "metadata": {
        "id": "pCQ3ZHTcIx9N",
        "colab_type": "text"
      },
      "source": [
        "#### Taking columns that contain only -105 out."
      ]
    },
    {
      "cell_type": "markdown",
      "metadata": {
        "id": "UWuFzbAAI2oP",
        "colab_type": "text"
      },
      "source": [
        "Training DataSet"
      ]
    },
    {
      "cell_type": "code",
      "metadata": {
        "id": "XReay61QI4ya",
        "colab_type": "code",
        "colab": {}
      },
      "source": [
        "%%R\n",
        "noSignal <- (as.data.frame(lapply((apply(IndoorLoc, 2, max)), function(x)\n",
        "{ifelse (x == -105, TRUE, FALSE)})))\n",
        "\n",
        "IndoorLoc <- IndoorLoc[,!noSignal]\n",
        "\n"
      ],
      "execution_count": 0,
      "outputs": []
    },
    {
      "cell_type": "markdown",
      "metadata": {
        "id": "zjotMHBdJRQX",
        "colab_type": "text"
      },
      "source": [
        "Validation DataSet"
      ]
    },
    {
      "cell_type": "code",
      "metadata": {
        "id": "hxYLD_aYJV6E",
        "colab_type": "code",
        "colab": {}
      },
      "source": [
        "%%R\n",
        "noSignal <- NULL\n",
        "noSignal <- (as.data.frame(lapply((apply(IndoorVal, 2, max)), function(x)\n",
        "{ifelse (x == -105, TRUE, FALSE)})))\n",
        "\n",
        "IndoorVal <- IndoorVal[,!noSignal]"
      ],
      "execution_count": 0,
      "outputs": []
    },
    {
      "cell_type": "markdown",
      "metadata": {
        "id": "posuboWnJgCX",
        "colab_type": "text"
      },
      "source": [
        "#### Taking out rows that have no WAP measurements"
      ]
    },
    {
      "cell_type": "markdown",
      "metadata": {
        "id": "sGpYqrToJlp4",
        "colab_type": "text"
      },
      "source": [
        "Training DataSet"
      ]
    },
    {
      "cell_type": "code",
      "metadata": {
        "id": "PI1nnpPKJjZy",
        "colab_type": "code",
        "colab": {}
      },
      "source": [
        "%%R\n",
        "IndoorLoc <- IndoorLoc[apply(IndoorLoc[,1:(ncol(IndoorLoc)-9)], 1, function(x) \n",
        "{ifelse(max(x) == -105, FALSE, TRUE)}),]\n"
      ],
      "execution_count": 0,
      "outputs": []
    },
    {
      "cell_type": "markdown",
      "metadata": {
        "id": "t-vorRx8Jpq-",
        "colab_type": "text"
      },
      "source": [
        "Validation DataSet"
      ]
    },
    {
      "cell_type": "code",
      "metadata": {
        "id": "gojCsIL2JraF",
        "colab_type": "code",
        "colab": {}
      },
      "source": [
        "%%R\n",
        "IndoorVal <- IndoorVal[apply(IndoorVal[,1:(ncol(IndoorVal)-9)], 1, function(x) \n",
        "{ifelse(max(x) == -105, FALSE, TRUE)}),]\n"
      ],
      "execution_count": 0,
      "outputs": []
    },
    {
      "cell_type": "markdown",
      "metadata": {
        "id": "jpn2lYSkJuqG",
        "colab_type": "text"
      },
      "source": [
        "####  Remove columns with Near Zero variance\n",
        "\n",
        "\n",
        "Number of columns with near zero variance \n",
        "\n",
        "deleteCols- Columns to be deleted"
      ]
    },
    {
      "cell_type": "code",
      "metadata": {
        "id": "Wg0fxmRQKJIJ",
        "colab_type": "code",
        "colab": {}
      },
      "source": [
        "%%R\n",
        "deleteCols <- nearZeroVar(IndoorLoc[,1:(ncol(IndoorLoc) - 9)], \n",
        "                                        saveMetrics = TRUE, uniqueCut = 0.015)$nzv\n",
        "\n",
        "IndoorLoc <- IndoorLoc[ , !(names(IndoorLoc) %in% colnames(IndoorLoc[,deleteCols]))]\n"
      ],
      "execution_count": 0,
      "outputs": []
    },
    {
      "cell_type": "markdown",
      "metadata": {
        "id": "8WMWCNK7Kdlk",
        "colab_type": "text"
      },
      "source": [
        "The number of individual measures inside range [−30dBm - 0dBm] is insignificant \n",
        "It cover approx 1% of total RSSI levels recorded in the database\n",
        "\n",
        "So excluding WAPs with the signal range [−30dBm - 0dBm]\n"
      ]
    },
    {
      "cell_type": "code",
      "metadata": {
        "id": "wiAVvetKKnOH",
        "colab_type": "code",
        "colab": {}
      },
      "source": [
        "%%R\n",
        "IndoorLoc <- IndoorLoc%>% mutate( not_wap30_0 = apply(IndoorLoc[,1:(ncol(IndoorLoc)-9)], 1, \n",
        "                                                 function(x) !(TRUE %in% (x > -30 & x <= 0))))                           \n",
        "\n",
        "IndoorLoc <- IndoorLoc[IndoorLoc$not_wap30_0,]\n",
        "  \n",
        "IndoorLoc$not_wap30_0 <- NULL"
      ],
      "execution_count": 0,
      "outputs": []
    },
    {
      "cell_type": "markdown",
      "metadata": {
        "id": "Kwqy7veWK9E-",
        "colab_type": "text"
      },
      "source": [
        "#### Removing duplicate rows in both Training and Validation sets"
      ]
    },
    {
      "cell_type": "code",
      "metadata": {
        "id": "33p_w51CK-WI",
        "colab_type": "code",
        "colab": {}
      },
      "source": [
        "%%R\n",
        "IndoorLoc <- unique(IndoorLoc)\n",
        "IndoorVal <- unique(IndoorVal) "
      ],
      "execution_count": 0,
      "outputs": []
    },
    {
      "cell_type": "markdown",
      "metadata": {
        "id": "Gjtr0voeLDgf",
        "colab_type": "text"
      },
      "source": [
        "Normalizing Training and validation sets so that standard deviation = 0,\n",
        "It will also prevent any NA values\n"
      ]
    },
    {
      "cell_type": "code",
      "metadata": {
        "id": "8FGUiVA_LEQr",
        "colab_type": "code",
        "colab": {}
      },
      "source": [
        "%%R\n",
        "IndoorLoc <- IndoorLoc[which(apply(IndoorLoc[, 1:(ncol(IndoorLoc) - 9)], 1, sd) != 0),]\n",
        "\n",
        "IndoorVal<- IndoorVal[which(apply(IndoorVal[,1:(ncol(IndoorVal) - 9)],1,sd)!=0),]"
      ],
      "execution_count": 0,
      "outputs": []
    },
    {
      "cell_type": "markdown",
      "metadata": {
        "id": "gJnfCAhJLH-W",
        "colab_type": "text"
      },
      "source": [
        "#### Keeping all features of Validation data set in Training data set"
      ]
    },
    {
      "cell_type": "code",
      "metadata": {
        "id": "wIhaML6VLMGT",
        "colab_type": "code",
        "colab": {}
      },
      "source": [
        "%%R\n",
        "IndoorLoc <- IndoorLoc[, which(names(IndoorLoc) %in% names(IndoorVal))]\n"
      ],
      "execution_count": 0,
      "outputs": []
    },
    {
      "cell_type": "markdown",
      "metadata": {
        "id": "_K4X6lTELPHX",
        "colab_type": "text"
      },
      "source": [
        "#### Deleting unnecessary columns because 1st case predicting Buildings."
      ]
    },
    {
      "cell_type": "code",
      "metadata": {
        "id": "NS_aetdFLRfT",
        "colab_type": "code",
        "colab": {}
      },
      "source": [
        "%%R\n",
        "IndoorLoc$LONGITUDE<- NULL\n",
        "IndoorLoc$LATITUDE<- NULL\n",
        "IndoorLoc$FLOOR<- NULL\n",
        "\n",
        "\n",
        "IndoorVal$LONGITUDE<- NULL\n",
        "IndoorVal$LATITUDE<- NULL\n",
        "IndoorVal$FLOOR<- NULL"
      ],
      "execution_count": 0,
      "outputs": []
    },
    {
      "cell_type": "markdown",
      "metadata": {
        "id": "-87kdnAiLTpF",
        "colab_type": "text"
      },
      "source": [
        "#### Normalizing trainset and testsets in rows "
      ]
    },
    {
      "cell_type": "code",
      "metadata": {
        "id": "QcJy3bHMLXI4",
        "colab_type": "code",
        "colab": {}
      },
      "source": [
        "%%R\n",
        "IndoorLoc[,1:(ncol(IndoorLoc) - 6)]<-\n",
        "           t(apply(IndoorLoc[,1:(ncol(IndoorLoc) - 6)],1, \n",
        "           function(x)((x)- min(x))/(max(x)- min(x))))\n",
        "\n",
        "\n",
        "IndoorVal[,1:(ncol(IndoorVal) - 6)]<-\n",
        "  t(apply(IndoorVal[,1:(ncol(IndoorVal) - 6)],1, \n",
        "          function(x)((x)- min(x))/(max(x)- min(x))))"
      ],
      "execution_count": 0,
      "outputs": []
    },
    {
      "cell_type": "code",
      "metadata": {
        "id": "BT6unwcYOEC0",
        "colab_type": "code",
        "colab": {}
      },
      "source": [
        ""
      ],
      "execution_count": 0,
      "outputs": []
    }
  ]
}